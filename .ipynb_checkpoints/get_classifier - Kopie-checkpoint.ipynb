{
 "cells": [
  {
   "cell_type": "markdown",
   "metadata": {},
   "source": [
    "# Aufgabe 3"
   ]
  },
  {
   "cell_type": "markdown",
   "metadata": {},
   "source": [
    "## Zugang zur InfluxDB\n",
    "Zusätzlich werden nützliche Libraries geladen"
   ]
  },
  {
   "cell_type": "code",
   "execution_count": 2,
   "metadata": {
    "ExecuteTime": {
     "end_time": "2019-11-06T08:34:39.417297Z",
     "start_time": "2019-11-06T08:34:38.240911Z"
    }
   },
   "outputs": [
    {
     "ename": "ModuleNotFoundError",
     "evalue": "No module named 'influxdb'",
     "output_type": "error",
     "traceback": [
      "\u001b[1;31m---------------------------------------------------------------------------\u001b[0m",
      "\u001b[1;31mModuleNotFoundError\u001b[0m                       Traceback (most recent call last)",
      "\u001b[1;32m<ipython-input-2-c11c90889b52>\u001b[0m in \u001b[0;36m<module>\u001b[1;34m\u001b[0m\n\u001b[0;32m      8\u001b[0m \u001b[1;32mimport\u001b[0m \u001b[0mtime\u001b[0m\u001b[1;33m\u001b[0m\u001b[1;33m\u001b[0m\u001b[0m\n\u001b[0;32m      9\u001b[0m \u001b[1;32mimport\u001b[0m \u001b[0mre\u001b[0m\u001b[1;33m\u001b[0m\u001b[1;33m\u001b[0m\u001b[0m\n\u001b[1;32m---> 10\u001b[1;33m \u001b[1;32mfrom\u001b[0m \u001b[0minfluxdb\u001b[0m \u001b[1;32mimport\u001b[0m \u001b[0mInfluxDBClient\u001b[0m\u001b[1;33m,\u001b[0m\u001b[0mDataFrameClient\u001b[0m\u001b[1;33m\u001b[0m\u001b[1;33m\u001b[0m\u001b[0m\n\u001b[0m\u001b[0;32m     11\u001b[0m \u001b[1;32mimport\u001b[0m \u001b[0mmath\u001b[0m\u001b[1;33m\u001b[0m\u001b[1;33m\u001b[0m\u001b[0m\n",
      "\u001b[1;31mModuleNotFoundError\u001b[0m: No module named 'influxdb'"
     ]
    }
   ],
   "source": [
    "import pandas as pd\n",
    "# pd.set_option sets float format\n",
    "pd.set_option('display.float_format', lambda x: '%.3f' % x)\n",
    "import numpy as np\n",
    "import matplotlib.pyplot as plt\n",
    "\n",
    "import datetime\n",
    "import time\n",
    "import re\n",
    "from influxdb import InfluxDBClient,DataFrameClient\n",
    "import math"
   ]
  },
  {
   "cell_type": "code",
   "execution_count": 2,
   "metadata": {
    "ExecuteTime": {
     "end_time": "2019-11-06T08:34:39.426772Z",
     "start_time": "2019-11-06T08:34:39.420489Z"
    }
   },
   "outputs": [],
   "source": [
    "client = InfluxDBClient(host='localhost', \n",
    "                        port=8086,\n",
    "                        database='training')"
   ]
  },
  {
   "cell_type": "markdown",
   "metadata": {},
   "source": [
    "## Vorverarbeitung der Daten"
   ]
  },
  {
   "cell_type": "code",
   "execution_count": 3,
   "metadata": {
    "ExecuteTime": {
     "end_time": "2019-11-06T08:34:40.083548Z",
     "start_time": "2019-11-06T08:34:39.440991Z"
    }
   },
   "outputs": [],
   "source": [
    "query_data = client.query('SELECT * FROM orientation').raw\n",
    "columns = query_data['series'][0]['columns']\n",
    "values = query_data['series'][0]['values']\n",
    "# tabel name df\n",
    "df = pd.DataFrame(values, columns=columns)"
   ]
  },
  {
   "cell_type": "markdown",
   "metadata": {},
   "source": [
    "Zeitformat ändern falls notwendig"
   ]
  },
  {
   "cell_type": "code",
   "execution_count": 4,
   "metadata": {
    "ExecuteTime": {
     "end_time": "2019-11-06T08:34:40.092795Z",
     "start_time": "2019-11-06T08:34:40.087019Z"
    }
   },
   "outputs": [],
   "source": [
    "# df['time_yyyymmdd'] = pd.to_datetime(df['time'].str.split('T').str.get(0))\n",
    "# df['time_hour'] = df['time'].str.split('T').str.get(1).str.replace('Z', '')\n",
    "# df['time_date'] = pd.to_datetime(df['time'].str.replace('Z','').str.replace('T',' '))\n",
    "# df['time_int'] = pd.to_numeric(df['time_date']) / 1000000"
   ]
  },
  {
   "cell_type": "code",
   "execution_count": 6,
   "metadata": {
    "ExecuteTime": {
     "end_time": "2019-11-06T08:34:40.165147Z",
     "start_time": "2019-11-06T08:34:40.139694Z"
    }
   },
   "outputs": [
    {
     "data": {
      "text/html": [
       "<div>\n",
       "<style scoped>\n",
       "    .dataframe tbody tr th:only-of-type {\n",
       "        vertical-align: middle;\n",
       "    }\n",
       "\n",
       "    .dataframe tbody tr th {\n",
       "        vertical-align: top;\n",
       "    }\n",
       "\n",
       "    .dataframe thead th {\n",
       "        text-align: right;\n",
       "    }\n",
       "</style>\n",
       "<table border=\"1\" class=\"dataframe\">\n",
       "  <thead>\n",
       "    <tr style=\"text-align: right;\">\n",
       "      <th></th>\n",
       "      <th>time</th>\n",
       "      <th>alpha</th>\n",
       "      <th>beta</th>\n",
       "      <th>count</th>\n",
       "      <th>gamma</th>\n",
       "      <th>label</th>\n",
       "      <th>subject</th>\n",
       "    </tr>\n",
       "  </thead>\n",
       "  <tbody>\n",
       "    <tr>\n",
       "      <th>0</th>\n",
       "      <td>2019-10-04T12:03:07.486Z</td>\n",
       "      <td>13931</td>\n",
       "      <td>-116414</td>\n",
       "      <td>1</td>\n",
       "      <td>2</td>\n",
       "      <td>testing</td>\n",
       "      <td>18585</td>\n",
       "    </tr>\n",
       "    <tr>\n",
       "      <th>1</th>\n",
       "      <td>2019-10-04T12:03:07.536Z</td>\n",
       "      <td>11167</td>\n",
       "      <td>-115452</td>\n",
       "      <td>2</td>\n",
       "      <td>1668</td>\n",
       "      <td>testing</td>\n",
       "      <td>18585</td>\n",
       "    </tr>\n",
       "    <tr>\n",
       "      <th>2</th>\n",
       "      <td>2019-10-04T12:03:07.59Z</td>\n",
       "      <td>4645</td>\n",
       "      <td>-112939</td>\n",
       "      <td>3</td>\n",
       "      <td>5617</td>\n",
       "      <td>testing</td>\n",
       "      <td>18585</td>\n",
       "    </tr>\n",
       "    <tr>\n",
       "      <th>3</th>\n",
       "      <td>2019-10-04T12:03:07.639Z</td>\n",
       "      <td>-1941</td>\n",
       "      <td>-110372</td>\n",
       "      <td>4</td>\n",
       "      <td>9789</td>\n",
       "      <td>testing</td>\n",
       "      <td>18585</td>\n",
       "    </tr>\n",
       "    <tr>\n",
       "      <th>4</th>\n",
       "      <td>2019-10-04T12:03:07.686Z</td>\n",
       "      <td>-5572</td>\n",
       "      <td>-109194</td>\n",
       "      <td>5</td>\n",
       "      <td>12250</td>\n",
       "      <td>testing</td>\n",
       "      <td>18585</td>\n",
       "    </tr>\n",
       "  </tbody>\n",
       "</table>\n",
       "</div>"
      ],
      "text/plain": [
       "                       time  alpha    beta  count  gamma    label subject\n",
       "0  2019-10-04T12:03:07.486Z  13931 -116414      1      2  testing   18585\n",
       "1  2019-10-04T12:03:07.536Z  11167 -115452      2   1668  testing   18585\n",
       "2   2019-10-04T12:03:07.59Z   4645 -112939      3   5617  testing   18585\n",
       "3  2019-10-04T12:03:07.639Z  -1941 -110372      4   9789  testing   18585\n",
       "4  2019-10-04T12:03:07.686Z  -5572 -109194      5  12250  testing   18585"
      ]
     },
     "execution_count": 6,
     "metadata": {},
     "output_type": "execute_result"
    }
   ],
   "source": [
    "df.head()"
   ]
  },
  {
   "cell_type": "markdown",
   "metadata": {},
   "source": [
    "Format der Variablen ändern wie in Übung besprochen"
   ]
  },
  {
   "cell_type": "code",
   "execution_count": 8,
   "metadata": {
    "ExecuteTime": {
     "end_time": "2019-11-06T08:34:40.202841Z",
     "start_time": "2019-11-06T08:34:40.193375Z"
    }
   },
   "outputs": [],
   "source": [
    "df_full['gamma'] = df_full['gamma'] / 1000\n",
    "df_full['alpha'] = df_full['alpha'] / 1000\n",
    "df_full['beta'] = df_full['beta'] / 1000"
   ]
  },
  {
   "cell_type": "markdown",
   "metadata": {},
   "source": [
    "## Feature Engineering"
   ]
  },
  {
   "cell_type": "markdown",
   "metadata": {},
   "source": [
    "Subjects auswählen"
   ]
  },
  {
   "cell_type": "code",
   "execution_count": 7,
   "metadata": {
    "ExecuteTime": {
     "end_time": "2019-11-06T08:34:40.188584Z",
     "start_time": "2019-11-06T08:34:40.168086Z"
    }
   },
   "outputs": [],
   "source": [
    "subjects = [\"Subject_1\",\"Subject_2\",\"Subject_3\",\"Subject_4\",\"Subject_5\",\"Subject_6\",\"Subject_7\",\"Subject_8\",\"Subject_9\",\"Subject_10\"]\n",
    "columns = ['time']\n",
    "# Drop testing and select subjects\n",
    "df_full = df[(df['label'] != 'testing') & (df['subject'].isin(subjects))].drop(columns,axis=1)"
   ]
  },
  {
   "cell_type": "markdown",
   "metadata": {},
   "source": [
    "Get features of exercise"
   ]
  },
  {
   "cell_type": "code",
   "execution_count": 9,
   "metadata": {
    "ExecuteTime": {
     "end_time": "2019-11-06T08:34:40.250978Z",
     "start_time": "2019-11-06T08:34:40.207175Z"
    }
   },
   "outputs": [],
   "source": [
    "#Math.sqrt((x.alpha - math.mean(alpha)) ** 2 + (x.beta - math.mean(beta)) ** 2 + (x.gamma - math.mean(gamma)) ** 2))\n",
    "df_full['d3'] = np.sqrt((df_full['gamma'] - df_full['gamma'].rolling(8).mean()) ** 2 +\n",
    "                          (df_full['alpha'] - df_full['alpha'].rolling(8).mean()) ** 2 +\n",
    "                          (df_full['beta'] - df_full['beta'].rolling(8).mean()) ** 2)\n",
    "df_full['d3_mean'] = df_full['d3'].rolling(8).mean()\n",
    "df_full['d3_max'] = df_full['d3'].rolling(8).max()\n",
    "df_full['d3_std'] = df_full['d3'].rolling(8).std()"
   ]
  },
  {
   "cell_type": "markdown",
   "metadata": {},
   "source": [
    "Generate own features\n",
    "\n",
    "Apply different window length for later testing"
   ]
  },
  {
   "cell_type": "code",
   "execution_count": 10,
   "metadata": {
    "ExecuteTime": {
     "end_time": "2019-11-06T08:34:40.408310Z",
     "start_time": "2019-11-06T08:34:40.265693Z"
    }
   },
   "outputs": [],
   "source": [
    "df_full['gamma_moving_avg_12'] = df_full['gamma'].rolling(12).mean()\n",
    "df_full['gamma_moving_sum_12'] = df_full['gamma'].rolling(12).sum()\n",
    "df_full['gamma_moving_var_12'] = df_full['gamma'].rolling(12).var()\n",
    "df_full['gamma_moving_std_12'] = df_full['gamma'].rolling(12).std()\n",
    "\n",
    "df_full['alpha_moving_avg_12'] = df_full['alpha'].rolling(12).mean()\n",
    "df_full['alpha_moving_sum_12'] = df_full['alpha'].rolling(12).sum()\n",
    "df_full['alpha_moving_var_12'] = df_full['alpha'].rolling(12).var()\n",
    "df_full['alpha_moving_std_12'] = df_full['alpha'].rolling(12).std()\n",
    "\n",
    "df_full['beta_moving_avg_12'] = df_full['beta'].rolling(12).mean()\n",
    "df_full['beta_moving_sum_12'] = df_full['beta'].rolling(12).sum()\n",
    "df_full['beta_moving_var_12'] = df_full['beta'].rolling(12).var()\n",
    "df_full['beta_moving_std_12'] = df_full['beta'].rolling(12).std()\n",
    "\n",
    "df_full['gamma_moving_avg_4'] = df_full['gamma'].rolling(4).mean()\n",
    "df_full['gamma_moving_sum_4'] = df_full['gamma'].rolling(4).sum()\n",
    "df_full['gamma_moving_var_4'] = df_full['gamma'].rolling(4).var()\n",
    "df_full['gamma_moving_std_4'] = df_full['gamma'].rolling(4).std()\n",
    "\n",
    "df_full['alpha_moving_avg_4'] = df_full['alpha'].rolling(4).mean()\n",
    "df_full['alpha_moving_sum_4'] = df_full['alpha'].rolling(4).sum()\n",
    "df_full['alpha_moving_var_4'] = df_full['alpha'].rolling(4).var()\n",
    "df_full['alpha_moving_std_4'] = df_full['alpha'].rolling(4).std()\n",
    "\n",
    "df_full['beta_moving_avg_4'] = df_full['beta'].rolling(4).mean()\n",
    "df_full['beta_moving_sum_4'] = df_full['beta'].rolling(4).sum()\n",
    "df_full['beta_moving_var_4'] = df_full['beta'].rolling(4).var()\n",
    "df_full['beta_moving_std_4'] = df_full['beta'].rolling(4).std()\n",
    "\n",
    "df_full['gamma_moving_avg_16'] = df_full['gamma'].rolling(16).mean()\n",
    "df_full['gamma_moving_sum_16'] = df_full['gamma'].rolling(16).sum()\n",
    "df_full['gamma_moving_var_16'] = df_full['gamma'].rolling(16).var()\n",
    "df_full['gamma_moving_std_16'] = df_full['gamma'].rolling(16).std()\n",
    "\n",
    "df_full['alpha_moving_avg_16'] = df_full['alpha'].rolling(16).mean()\n",
    "df_full['alpha_moving_sum_16'] = df_full['alpha'].rolling(16).sum()\n",
    "df_full['alpha_moving_var_16'] = df_full['alpha'].rolling(16).var()\n",
    "df_full['alpha_moving_std_16'] = df_full['alpha'].rolling(16).std()\n",
    "\n",
    "df_full['beta_moving_avg_16'] = df_full['beta'].rolling(16).mean()\n",
    "df_full['beta_moving_sum_16'] = df_full['beta'].rolling(16).sum()\n",
    "df_full['beta_moving_var_16'] = df_full['beta'].rolling(16).var()\n",
    "df_full['beta_moving_std_16'] = df_full['beta'].rolling(16).std()\n",
    "\n",
    "df_full['gamma_moving_avg_8'] = df_full['gamma'].rolling(8).mean()\n",
    "df_full['gamma_moving_sum_8'] = df_full['gamma'].rolling(8).sum()\n",
    "df_full['gamma_moving_var_8'] = df_full['gamma'].rolling(8).var()\n",
    "df_full['gamma_moving_std_8'] = df_full['gamma'].rolling(8).std()\n",
    "\n",
    "df_full['alpha_moving_avg_8'] = df_full['alpha'].rolling(8).mean()\n",
    "df_full['alpha_moving_sum_8'] = df_full['alpha'].rolling(8).sum()\n",
    "df_full['alpha_moving_var_8'] = df_full['alpha'].rolling(8).var()\n",
    "df_full['alpha_moving_std_8'] = df_full['alpha'].rolling(8).std()\n",
    "\n",
    "df_full['beta_moving_avg_8'] = df_full['beta'].rolling(8).mean()\n",
    "df_full['beta_moving_sum_8'] = df_full['beta'].rolling(8).sum()\n",
    "df_full['beta_moving_var_8'] = df_full['beta'].rolling(8).var()\n",
    "df_full['beta_moving_std_8'] = df_full['beta'].rolling(8).std()"
   ]
  },
  {
   "cell_type": "markdown",
   "metadata": {},
   "source": [
    "Drop rows containing nans"
   ]
  },
  {
   "cell_type": "code",
   "execution_count": 11,
   "metadata": {
    "ExecuteTime": {
     "end_time": "2019-11-06T08:34:40.465026Z",
     "start_time": "2019-11-06T08:34:40.412769Z"
    }
   },
   "outputs": [],
   "source": [
    "# Drop rows with NaN values \n",
    "df_full = df_full.dropna()\n",
    "df_full = df_full.reset_index()"
   ]
  },
  {
   "cell_type": "code",
   "execution_count": 12,
   "metadata": {
    "ExecuteTime": {
     "end_time": "2019-11-06T08:34:40.505795Z",
     "start_time": "2019-11-06T08:34:40.472692Z"
    }
   },
   "outputs": [
    {
     "data": {
      "text/html": [
       "<div>\n",
       "<style scoped>\n",
       "    .dataframe tbody tr th:only-of-type {\n",
       "        vertical-align: middle;\n",
       "    }\n",
       "\n",
       "    .dataframe tbody tr th {\n",
       "        vertical-align: top;\n",
       "    }\n",
       "\n",
       "    .dataframe thead th {\n",
       "        text-align: right;\n",
       "    }\n",
       "</style>\n",
       "<table border=\"1\" class=\"dataframe\">\n",
       "  <thead>\n",
       "    <tr style=\"text-align: right;\">\n",
       "      <th></th>\n",
       "      <th>index</th>\n",
       "      <th>alpha</th>\n",
       "      <th>beta</th>\n",
       "      <th>count</th>\n",
       "      <th>gamma</th>\n",
       "      <th>label</th>\n",
       "      <th>subject</th>\n",
       "      <th>d3</th>\n",
       "      <th>d3_mean</th>\n",
       "      <th>d3_max</th>\n",
       "      <th>...</th>\n",
       "      <th>gamma_moving_var_8</th>\n",
       "      <th>gamma_moving_std_8</th>\n",
       "      <th>alpha_moving_avg_8</th>\n",
       "      <th>alpha_moving_sum_8</th>\n",
       "      <th>alpha_moving_var_8</th>\n",
       "      <th>alpha_moving_std_8</th>\n",
       "      <th>beta_moving_avg_8</th>\n",
       "      <th>beta_moving_sum_8</th>\n",
       "      <th>beta_moving_var_8</th>\n",
       "      <th>beta_moving_std_8</th>\n",
       "    </tr>\n",
       "  </thead>\n",
       "  <tbody>\n",
       "    <tr>\n",
       "      <th>0</th>\n",
       "      <td>19677</td>\n",
       "      <td>344.014</td>\n",
       "      <td>27.571</td>\n",
       "      <td>16</td>\n",
       "      <td>-3.863</td>\n",
       "      <td>walking</td>\n",
       "      <td>Subject_1</td>\n",
       "      <td>1.049</td>\n",
       "      <td>1.158</td>\n",
       "      <td>2.065</td>\n",
       "      <td>...</td>\n",
       "      <td>0.285</td>\n",
       "      <td>0.534</td>\n",
       "      <td>344.199</td>\n",
       "      <td>2753.594</td>\n",
       "      <td>0.037</td>\n",
       "      <td>0.193</td>\n",
       "      <td>27.039</td>\n",
       "      <td>216.311</td>\n",
       "      <td>0.102</td>\n",
       "      <td>0.319</td>\n",
       "    </tr>\n",
       "    <tr>\n",
       "      <th>1</th>\n",
       "      <td>19678</td>\n",
       "      <td>343.719</td>\n",
       "      <td>27.655</td>\n",
       "      <td>17</td>\n",
       "      <td>-3.793</td>\n",
       "      <td>walking</td>\n",
       "      <td>Subject_1</td>\n",
       "      <td>1.013</td>\n",
       "      <td>1.026</td>\n",
       "      <td>1.998</td>\n",
       "      <td>...</td>\n",
       "      <td>0.359</td>\n",
       "      <td>0.599</td>\n",
       "      <td>344.084</td>\n",
       "      <td>2752.676</td>\n",
       "      <td>0.028</td>\n",
       "      <td>0.166</td>\n",
       "      <td>27.090</td>\n",
       "      <td>216.722</td>\n",
       "      <td>0.147</td>\n",
       "      <td>0.384</td>\n",
       "    </tr>\n",
       "    <tr>\n",
       "      <th>2</th>\n",
       "      <td>19679</td>\n",
       "      <td>343.352</td>\n",
       "      <td>27.524</td>\n",
       "      <td>18</td>\n",
       "      <td>-3.912</td>\n",
       "      <td>walking</td>\n",
       "      <td>Subject_1</td>\n",
       "      <td>1.001</td>\n",
       "      <td>0.901</td>\n",
       "      <td>1.415</td>\n",
       "      <td>...</td>\n",
       "      <td>0.378</td>\n",
       "      <td>0.615</td>\n",
       "      <td>343.969</td>\n",
       "      <td>2751.754</td>\n",
       "      <td>0.084</td>\n",
       "      <td>0.290</td>\n",
       "      <td>27.147</td>\n",
       "      <td>217.176</td>\n",
       "      <td>0.170</td>\n",
       "      <td>0.413</td>\n",
       "    </tr>\n",
       "    <tr>\n",
       "      <th>3</th>\n",
       "      <td>19680</td>\n",
       "      <td>342.973</td>\n",
       "      <td>26.940</td>\n",
       "      <td>19</td>\n",
       "      <td>-3.929</td>\n",
       "      <td>walking</td>\n",
       "      <td>Subject_1</td>\n",
       "      <td>1.026</td>\n",
       "      <td>0.853</td>\n",
       "      <td>1.049</td>\n",
       "      <td>...</td>\n",
       "      <td>0.366</td>\n",
       "      <td>0.605</td>\n",
       "      <td>343.820</td>\n",
       "      <td>2750.563</td>\n",
       "      <td>0.195</td>\n",
       "      <td>0.442</td>\n",
       "      <td>27.138</td>\n",
       "      <td>217.106</td>\n",
       "      <td>0.174</td>\n",
       "      <td>0.417</td>\n",
       "    </tr>\n",
       "    <tr>\n",
       "      <th>4</th>\n",
       "      <td>19681</td>\n",
       "      <td>342.629</td>\n",
       "      <td>26.703</td>\n",
       "      <td>20</td>\n",
       "      <td>-3.950</td>\n",
       "      <td>walking</td>\n",
       "      <td>Subject_1</td>\n",
       "      <td>1.170</td>\n",
       "      <td>0.876</td>\n",
       "      <td>1.170</td>\n",
       "      <td>...</td>\n",
       "      <td>0.312</td>\n",
       "      <td>0.559</td>\n",
       "      <td>343.635</td>\n",
       "      <td>2749.079</td>\n",
       "      <td>0.346</td>\n",
       "      <td>0.588</td>\n",
       "      <td>27.141</td>\n",
       "      <td>217.127</td>\n",
       "      <td>0.171</td>\n",
       "      <td>0.413</td>\n",
       "    </tr>\n",
       "  </tbody>\n",
       "</table>\n",
       "<p>5 rows × 59 columns</p>\n",
       "</div>"
      ],
      "text/plain": [
       "   index   alpha   beta  count  gamma    label    subject    d3  d3_mean  \\\n",
       "0  19677 344.014 27.571     16 -3.863  walking  Subject_1 1.049    1.158   \n",
       "1  19678 343.719 27.655     17 -3.793  walking  Subject_1 1.013    1.026   \n",
       "2  19679 343.352 27.524     18 -3.912  walking  Subject_1 1.001    0.901   \n",
       "3  19680 342.973 26.940     19 -3.929  walking  Subject_1 1.026    0.853   \n",
       "4  19681 342.629 26.703     20 -3.950  walking  Subject_1 1.170    0.876   \n",
       "\n",
       "   d3_max  ...  gamma_moving_var_8  gamma_moving_std_8  alpha_moving_avg_8  \\\n",
       "0   2.065  ...               0.285               0.534             344.199   \n",
       "1   1.998  ...               0.359               0.599             344.084   \n",
       "2   1.415  ...               0.378               0.615             343.969   \n",
       "3   1.049  ...               0.366               0.605             343.820   \n",
       "4   1.170  ...               0.312               0.559             343.635   \n",
       "\n",
       "   alpha_moving_sum_8  alpha_moving_var_8  alpha_moving_std_8  \\\n",
       "0            2753.594               0.037               0.193   \n",
       "1            2752.676               0.028               0.166   \n",
       "2            2751.754               0.084               0.290   \n",
       "3            2750.563               0.195               0.442   \n",
       "4            2749.079               0.346               0.588   \n",
       "\n",
       "   beta_moving_avg_8  beta_moving_sum_8  beta_moving_var_8  beta_moving_std_8  \n",
       "0             27.039            216.311              0.102              0.319  \n",
       "1             27.090            216.722              0.147              0.384  \n",
       "2             27.147            217.176              0.170              0.413  \n",
       "3             27.138            217.106              0.174              0.417  \n",
       "4             27.141            217.127              0.171              0.413  \n",
       "\n",
       "[5 rows x 59 columns]"
      ]
     },
     "execution_count": 12,
     "metadata": {},
     "output_type": "execute_result"
    }
   ],
   "source": [
    "df_full.head()"
   ]
  },
  {
   "cell_type": "markdown",
   "metadata": {},
   "source": [
    "# Exercise 4\n",
    "Create a Classifier"
   ]
  },
  {
   "cell_type": "code",
   "execution_count": 13,
   "metadata": {
    "ExecuteTime": {
     "end_time": "2019-11-06T08:34:41.386535Z",
     "start_time": "2019-11-06T08:34:40.508699Z"
    }
   },
   "outputs": [],
   "source": [
    "from sklearn.model_selection import train_test_split, LeaveOneOut, KFold\n",
    "from sklearn.tree import DecisionTreeClassifier\n",
    "from sklearn.metrics import confusion_matrix"
   ]
  },
  {
   "cell_type": "markdown",
   "metadata": {},
   "source": [
    "## Prepare Data"
   ]
  },
  {
   "cell_type": "code",
   "execution_count": 14,
   "metadata": {
    "ExecuteTime": {
     "end_time": "2019-11-06T08:34:41.404878Z",
     "start_time": "2019-11-06T08:34:41.389114Z"
    }
   },
   "outputs": [],
   "source": [
    "columns = ['count','subject','index','alpha','beta','gamma']\n",
    "df_ex4 = df_full.drop(columns=columns,axis=1)"
   ]
  },
  {
   "cell_type": "code",
   "execution_count": 15,
   "metadata": {
    "ExecuteTime": {
     "end_time": "2019-11-06T08:34:41.452802Z",
     "start_time": "2019-11-06T08:34:41.411803Z"
    },
    "scrolled": false
   },
   "outputs": [
    {
     "data": {
      "text/html": [
       "<div>\n",
       "<style scoped>\n",
       "    .dataframe tbody tr th:only-of-type {\n",
       "        vertical-align: middle;\n",
       "    }\n",
       "\n",
       "    .dataframe tbody tr th {\n",
       "        vertical-align: top;\n",
       "    }\n",
       "\n",
       "    .dataframe thead th {\n",
       "        text-align: right;\n",
       "    }\n",
       "</style>\n",
       "<table border=\"1\" class=\"dataframe\">\n",
       "  <thead>\n",
       "    <tr style=\"text-align: right;\">\n",
       "      <th></th>\n",
       "      <th>label</th>\n",
       "      <th>d3</th>\n",
       "      <th>d3_mean</th>\n",
       "      <th>d3_max</th>\n",
       "      <th>d3_std</th>\n",
       "      <th>gamma_moving_avg_12</th>\n",
       "      <th>gamma_moving_sum_12</th>\n",
       "      <th>gamma_moving_var_12</th>\n",
       "      <th>gamma_moving_std_12</th>\n",
       "      <th>alpha_moving_avg_12</th>\n",
       "      <th>...</th>\n",
       "      <th>gamma_moving_var_8</th>\n",
       "      <th>gamma_moving_std_8</th>\n",
       "      <th>alpha_moving_avg_8</th>\n",
       "      <th>alpha_moving_sum_8</th>\n",
       "      <th>alpha_moving_var_8</th>\n",
       "      <th>alpha_moving_std_8</th>\n",
       "      <th>beta_moving_avg_8</th>\n",
       "      <th>beta_moving_sum_8</th>\n",
       "      <th>beta_moving_var_8</th>\n",
       "      <th>beta_moving_std_8</th>\n",
       "    </tr>\n",
       "  </thead>\n",
       "  <tbody>\n",
       "    <tr>\n",
       "      <th>0</th>\n",
       "      <td>walking</td>\n",
       "      <td>1.049</td>\n",
       "      <td>1.158</td>\n",
       "      <td>2.065</td>\n",
       "      <td>0.633</td>\n",
       "      <td>-3.315</td>\n",
       "      <td>-39.783</td>\n",
       "      <td>0.442</td>\n",
       "      <td>0.665</td>\n",
       "      <td>344.568</td>\n",
       "      <td>...</td>\n",
       "      <td>0.285</td>\n",
       "      <td>0.534</td>\n",
       "      <td>344.199</td>\n",
       "      <td>2753.594</td>\n",
       "      <td>0.037</td>\n",
       "      <td>0.193</td>\n",
       "      <td>27.039</td>\n",
       "      <td>216.311</td>\n",
       "      <td>0.102</td>\n",
       "      <td>0.319</td>\n",
       "    </tr>\n",
       "    <tr>\n",
       "      <th>1</th>\n",
       "      <td>walking</td>\n",
       "      <td>1.013</td>\n",
       "      <td>1.026</td>\n",
       "      <td>1.998</td>\n",
       "      <td>0.516</td>\n",
       "      <td>-3.283</td>\n",
       "      <td>-39.391</td>\n",
       "      <td>0.393</td>\n",
       "      <td>0.627</td>\n",
       "      <td>344.363</td>\n",
       "      <td>...</td>\n",
       "      <td>0.359</td>\n",
       "      <td>0.599</td>\n",
       "      <td>344.084</td>\n",
       "      <td>2752.676</td>\n",
       "      <td>0.028</td>\n",
       "      <td>0.166</td>\n",
       "      <td>27.090</td>\n",
       "      <td>216.722</td>\n",
       "      <td>0.147</td>\n",
       "      <td>0.384</td>\n",
       "    </tr>\n",
       "    <tr>\n",
       "      <th>2</th>\n",
       "      <td>walking</td>\n",
       "      <td>1.001</td>\n",
       "      <td>0.901</td>\n",
       "      <td>1.415</td>\n",
       "      <td>0.337</td>\n",
       "      <td>-3.267</td>\n",
       "      <td>-39.206</td>\n",
       "      <td>0.368</td>\n",
       "      <td>0.607</td>\n",
       "      <td>344.187</td>\n",
       "      <td>...</td>\n",
       "      <td>0.378</td>\n",
       "      <td>0.615</td>\n",
       "      <td>343.969</td>\n",
       "      <td>2751.754</td>\n",
       "      <td>0.084</td>\n",
       "      <td>0.290</td>\n",
       "      <td>27.147</td>\n",
       "      <td>217.176</td>\n",
       "      <td>0.170</td>\n",
       "      <td>0.413</td>\n",
       "    </tr>\n",
       "    <tr>\n",
       "      <th>3</th>\n",
       "      <td>walking</td>\n",
       "      <td>1.026</td>\n",
       "      <td>0.853</td>\n",
       "      <td>1.049</td>\n",
       "      <td>0.274</td>\n",
       "      <td>-3.263</td>\n",
       "      <td>-39.158</td>\n",
       "      <td>0.362</td>\n",
       "      <td>0.602</td>\n",
       "      <td>344.032</td>\n",
       "      <td>...</td>\n",
       "      <td>0.366</td>\n",
       "      <td>0.605</td>\n",
       "      <td>343.820</td>\n",
       "      <td>2750.563</td>\n",
       "      <td>0.195</td>\n",
       "      <td>0.442</td>\n",
       "      <td>27.138</td>\n",
       "      <td>217.106</td>\n",
       "      <td>0.174</td>\n",
       "      <td>0.417</td>\n",
       "    </tr>\n",
       "    <tr>\n",
       "      <th>4</th>\n",
       "      <td>walking</td>\n",
       "      <td>1.170</td>\n",
       "      <td>0.876</td>\n",
       "      <td>1.170</td>\n",
       "      <td>0.294</td>\n",
       "      <td>-3.284</td>\n",
       "      <td>-39.405</td>\n",
       "      <td>0.387</td>\n",
       "      <td>0.622</td>\n",
       "      <td>343.856</td>\n",
       "      <td>...</td>\n",
       "      <td>0.312</td>\n",
       "      <td>0.559</td>\n",
       "      <td>343.635</td>\n",
       "      <td>2749.079</td>\n",
       "      <td>0.346</td>\n",
       "      <td>0.588</td>\n",
       "      <td>27.141</td>\n",
       "      <td>217.127</td>\n",
       "      <td>0.171</td>\n",
       "      <td>0.413</td>\n",
       "    </tr>\n",
       "  </tbody>\n",
       "</table>\n",
       "<p>5 rows × 53 columns</p>\n",
       "</div>"
      ],
      "text/plain": [
       "     label    d3  d3_mean  d3_max  d3_std  gamma_moving_avg_12  \\\n",
       "0  walking 1.049    1.158   2.065   0.633               -3.315   \n",
       "1  walking 1.013    1.026   1.998   0.516               -3.283   \n",
       "2  walking 1.001    0.901   1.415   0.337               -3.267   \n",
       "3  walking 1.026    0.853   1.049   0.274               -3.263   \n",
       "4  walking 1.170    0.876   1.170   0.294               -3.284   \n",
       "\n",
       "   gamma_moving_sum_12  gamma_moving_var_12  gamma_moving_std_12  \\\n",
       "0              -39.783                0.442                0.665   \n",
       "1              -39.391                0.393                0.627   \n",
       "2              -39.206                0.368                0.607   \n",
       "3              -39.158                0.362                0.602   \n",
       "4              -39.405                0.387                0.622   \n",
       "\n",
       "   alpha_moving_avg_12  ...  gamma_moving_var_8  gamma_moving_std_8  \\\n",
       "0              344.568  ...               0.285               0.534   \n",
       "1              344.363  ...               0.359               0.599   \n",
       "2              344.187  ...               0.378               0.615   \n",
       "3              344.032  ...               0.366               0.605   \n",
       "4              343.856  ...               0.312               0.559   \n",
       "\n",
       "   alpha_moving_avg_8  alpha_moving_sum_8  alpha_moving_var_8  \\\n",
       "0             344.199            2753.594               0.037   \n",
       "1             344.084            2752.676               0.028   \n",
       "2             343.969            2751.754               0.084   \n",
       "3             343.820            2750.563               0.195   \n",
       "4             343.635            2749.079               0.346   \n",
       "\n",
       "   alpha_moving_std_8  beta_moving_avg_8  beta_moving_sum_8  \\\n",
       "0               0.193             27.039            216.311   \n",
       "1               0.166             27.090            216.722   \n",
       "2               0.290             27.147            217.176   \n",
       "3               0.442             27.138            217.106   \n",
       "4               0.588             27.141            217.127   \n",
       "\n",
       "   beta_moving_var_8  beta_moving_std_8  \n",
       "0              0.102              0.319  \n",
       "1              0.147              0.384  \n",
       "2              0.170              0.413  \n",
       "3              0.174              0.417  \n",
       "4              0.171              0.413  \n",
       "\n",
       "[5 rows x 53 columns]"
      ]
     },
     "execution_count": 15,
     "metadata": {},
     "output_type": "execute_result"
    }
   ],
   "source": [
    "df_ex4.head()"
   ]
  },
  {
   "cell_type": "code",
   "execution_count": 16,
   "metadata": {
    "ExecuteTime": {
     "end_time": "2019-11-06T08:34:41.474529Z",
     "start_time": "2019-11-06T08:34:41.463611Z"
    }
   },
   "outputs": [],
   "source": [
    "X = df_ex4.drop(columns='label', axis=1)\n",
    "y = df_ex4['label']"
   ]
  },
  {
   "cell_type": "markdown",
   "metadata": {},
   "source": [
    "## Train Model Leave-One-Out Splits"
   ]
  },
  {
   "cell_type": "code",
   "execution_count": 17,
   "metadata": {
    "ExecuteTime": {
     "end_time": "2019-11-06T08:34:41.482099Z",
     "start_time": "2019-11-06T08:34:41.478157Z"
    }
   },
   "outputs": [],
   "source": [
    "test_size = 0.33\n",
    "seed = 123"
   ]
  },
  {
   "cell_type": "markdown",
   "metadata": {},
   "source": [
    "Leave one out, stop at 999 data points"
   ]
  },
  {
   "cell_type": "code",
   "execution_count": 18,
   "metadata": {
    "ExecuteTime": {
     "end_time": "2019-11-06T08:44:51.256777Z",
     "start_time": "2019-11-06T08:34:41.487018Z"
    }
   },
   "outputs": [
    {
     "name": "stdout",
     "output_type": "stream",
     "text": [
      "Accuracy: 0.980980980980981\n"
     ]
    }
   ],
   "source": [
    "# Leave one out\n",
    "X_arr = np.array(X)\n",
    "y_arr = np.array(y)\n",
    "\n",
    "# Initialize empty train and test arrays for X and y\n",
    "X_train_loo = []\n",
    "X_test_loo = []\n",
    "y_train_loo = []\n",
    "y_test_loo = [] \n",
    "\n",
    "loo = LeaveOneOut()\n",
    "loo.get_n_splits(X_arr)\n",
    "\n",
    "tree_model_loo = DecisionTreeClassifier(criterion='entropy',random_state=seed)\n",
    "results = []\n",
    "i = 0\n",
    "for train_index, test_index in loo.split(X_arr):\n",
    "    if(i == 999):\n",
    "        break\n",
    "        \n",
    "    X_train_loo = X_arr[train_index]\n",
    "    X_test_loo = X_arr[test_index]\n",
    "    y_train_loo = y_arr[train_index]\n",
    "    y_test_loo = y_arr[test_index]\n",
    "    \n",
    "    tree_model_loo.fit(X_train_loo,y_train_loo)\n",
    "    y_pred_loo = tree_model_loo.predict(X_test_loo)\n",
    "    \n",
    "    if(y_pred_loo == y_test_loo):\n",
    "        results.append(1)\n",
    "    else:\n",
    "        results.append(0)\n",
    "    i += 1\n",
    "print('Accuracy: ' + str(sum(results)/len(results)))"
   ]
  },
  {
   "cell_type": "markdown",
   "metadata": {},
   "source": [
    "## Train Model Normal Splits"
   ]
  },
  {
   "cell_type": "markdown",
   "metadata": {},
   "source": [
    "Predict on all features with normal splits"
   ]
  },
  {
   "cell_type": "code",
   "execution_count": 19,
   "metadata": {
    "ExecuteTime": {
     "end_time": "2019-11-06T08:44:51.276383Z",
     "start_time": "2019-11-06T08:44:51.261041Z"
    }
   },
   "outputs": [],
   "source": [
    "# Normal Split\n",
    "X_train, X_test, y_train, y_test = train_test_split(X, y, test_size=test_size, random_state=seed)"
   ]
  },
  {
   "cell_type": "code",
   "execution_count": 20,
   "metadata": {
    "ExecuteTime": {
     "end_time": "2019-11-06T08:44:51.782803Z",
     "start_time": "2019-11-06T08:44:51.280159Z"
    }
   },
   "outputs": [],
   "source": [
    "tree_model = DecisionTreeClassifier(criterion='entropy',random_state=seed)\n",
    "tree_model.fit(X_train,y_train)\n",
    "y_pred = tree_model.predict(X_test)"
   ]
  },
  {
   "cell_type": "code",
   "execution_count": 21,
   "metadata": {
    "ExecuteTime": {
     "end_time": "2019-11-06T08:44:51.828673Z",
     "start_time": "2019-11-06T08:44:51.785372Z"
    }
   },
   "outputs": [
    {
     "name": "stdout",
     "output_type": "stream",
     "text": [
      "Accuracy:  0.9691608893138896\n"
     ]
    }
   ],
   "source": [
    "cm = confusion_matrix(y_test,y_pred)\n",
    "score = (cm[0][0] + cm[1][1] + cm[2][2]) / sum(sum(cm))\n",
    "print('Accuracy: ',score)"
   ]
  },
  {
   "cell_type": "markdown",
   "metadata": {},
   "source": [
    "# Get Classifier"
   ]
  },
  {
   "cell_type": "markdown",
   "metadata": {},
   "source": [
    "## Feature Elimination"
   ]
  },
  {
   "cell_type": "code",
   "execution_count": 22,
   "metadata": {
    "ExecuteTime": {
     "end_time": "2019-11-06T08:44:51.858087Z",
     "start_time": "2019-11-06T08:44:51.832826Z"
    }
   },
   "outputs": [],
   "source": [
    "from sklearn.ensemble import RandomForestClassifier"
   ]
  },
  {
   "cell_type": "code",
   "execution_count": 23,
   "metadata": {
    "ExecuteTime": {
     "end_time": "2019-11-06T08:45:04.685649Z",
     "start_time": "2019-11-06T08:44:51.867300Z"
    }
   },
   "outputs": [
    {
     "data": {
      "text/plain": [
       "RandomForestClassifier(bootstrap=True, class_weight=None, criterion='gini',\n",
       "                       max_depth=2, max_features='auto', max_leaf_nodes=None,\n",
       "                       min_impurity_decrease=0.0, min_impurity_split=None,\n",
       "                       min_samples_leaf=1, min_samples_split=2,\n",
       "                       min_weight_fraction_leaf=0.0, n_estimators=1000,\n",
       "                       n_jobs=None, oob_score=False, random_state=0, verbose=0,\n",
       "                       warm_start=False)"
      ]
     },
     "execution_count": 23,
     "metadata": {},
     "output_type": "execute_result"
    }
   ],
   "source": [
    "# Get Feature Importance\n",
    "rf_classifier = RandomForestClassifier(n_estimators=1000, max_depth=2,\n",
    "                             random_state=0)\n",
    "rf_classifier.fit(X, y)  "
   ]
  },
  {
   "cell_type": "markdown",
   "metadata": {
    "ExecuteTime": {
     "end_time": "2019-11-04T20:59:40.126893Z",
     "start_time": "2019-11-04T20:59:40.107736Z"
    }
   },
   "source": [
    "Get feature importance according to random forest classifier"
   ]
  },
  {
   "cell_type": "code",
   "execution_count": 24,
   "metadata": {
    "ExecuteTime": {
     "end_time": "2019-11-06T08:45:04.971161Z",
     "start_time": "2019-11-06T08:45:04.693043Z"
    },
    "scrolled": false
   },
   "outputs": [
    {
     "data": {
      "text/html": [
       "<div>\n",
       "<style scoped>\n",
       "    .dataframe tbody tr th:only-of-type {\n",
       "        vertical-align: middle;\n",
       "    }\n",
       "\n",
       "    .dataframe tbody tr th {\n",
       "        vertical-align: top;\n",
       "    }\n",
       "\n",
       "    .dataframe thead th {\n",
       "        text-align: right;\n",
       "    }\n",
       "</style>\n",
       "<table border=\"1\" class=\"dataframe\">\n",
       "  <thead>\n",
       "    <tr style=\"text-align: right;\">\n",
       "      <th></th>\n",
       "      <th>Features</th>\n",
       "      <th>Importances</th>\n",
       "    </tr>\n",
       "  </thead>\n",
       "  <tbody>\n",
       "    <tr>\n",
       "      <th>24</th>\n",
       "      <td>beta_moving_avg_4</td>\n",
       "      <td>0.083</td>\n",
       "    </tr>\n",
       "    <tr>\n",
       "      <th>25</th>\n",
       "      <td>beta_moving_sum_4</td>\n",
       "      <td>0.079</td>\n",
       "    </tr>\n",
       "    <tr>\n",
       "      <th>48</th>\n",
       "      <td>beta_moving_avg_8</td>\n",
       "      <td>0.069</td>\n",
       "    </tr>\n",
       "    <tr>\n",
       "      <th>23</th>\n",
       "      <td>alpha_moving_std_4</td>\n",
       "      <td>0.067</td>\n",
       "    </tr>\n",
       "    <tr>\n",
       "      <th>49</th>\n",
       "      <td>beta_moving_sum_8</td>\n",
       "      <td>0.066</td>\n",
       "    </tr>\n",
       "    <tr>\n",
       "      <th>22</th>\n",
       "      <td>alpha_moving_var_4</td>\n",
       "      <td>0.055</td>\n",
       "    </tr>\n",
       "    <tr>\n",
       "      <th>1</th>\n",
       "      <td>d3_mean</td>\n",
       "      <td>0.049</td>\n",
       "    </tr>\n",
       "    <tr>\n",
       "      <th>34</th>\n",
       "      <td>alpha_moving_var_16</td>\n",
       "      <td>0.044</td>\n",
       "    </tr>\n",
       "    <tr>\n",
       "      <th>13</th>\n",
       "      <td>beta_moving_sum_12</td>\n",
       "      <td>0.042</td>\n",
       "    </tr>\n",
       "    <tr>\n",
       "      <th>10</th>\n",
       "      <td>alpha_moving_var_12</td>\n",
       "      <td>0.042</td>\n",
       "    </tr>\n",
       "    <tr>\n",
       "      <th>11</th>\n",
       "      <td>alpha_moving_std_12</td>\n",
       "      <td>0.039</td>\n",
       "    </tr>\n",
       "    <tr>\n",
       "      <th>35</th>\n",
       "      <td>alpha_moving_std_16</td>\n",
       "      <td>0.039</td>\n",
       "    </tr>\n",
       "    <tr>\n",
       "      <th>2</th>\n",
       "      <td>d3_max</td>\n",
       "      <td>0.038</td>\n",
       "    </tr>\n",
       "    <tr>\n",
       "      <th>47</th>\n",
       "      <td>alpha_moving_std_8</td>\n",
       "      <td>0.035</td>\n",
       "    </tr>\n",
       "    <tr>\n",
       "      <th>46</th>\n",
       "      <td>alpha_moving_var_8</td>\n",
       "      <td>0.033</td>\n",
       "    </tr>\n",
       "    <tr>\n",
       "      <th>12</th>\n",
       "      <td>beta_moving_avg_12</td>\n",
       "      <td>0.032</td>\n",
       "    </tr>\n",
       "    <tr>\n",
       "      <th>37</th>\n",
       "      <td>beta_moving_sum_16</td>\n",
       "      <td>0.023</td>\n",
       "    </tr>\n",
       "    <tr>\n",
       "      <th>31</th>\n",
       "      <td>gamma_moving_std_16</td>\n",
       "      <td>0.023</td>\n",
       "    </tr>\n",
       "    <tr>\n",
       "      <th>36</th>\n",
       "      <td>beta_moving_avg_16</td>\n",
       "      <td>0.018</td>\n",
       "    </tr>\n",
       "    <tr>\n",
       "      <th>30</th>\n",
       "      <td>gamma_moving_var_16</td>\n",
       "      <td>0.018</td>\n",
       "    </tr>\n",
       "    <tr>\n",
       "      <th>0</th>\n",
       "      <td>d3</td>\n",
       "      <td>0.015</td>\n",
       "    </tr>\n",
       "    <tr>\n",
       "      <th>6</th>\n",
       "      <td>gamma_moving_var_12</td>\n",
       "      <td>0.015</td>\n",
       "    </tr>\n",
       "    <tr>\n",
       "      <th>7</th>\n",
       "      <td>gamma_moving_std_12</td>\n",
       "      <td>0.014</td>\n",
       "    </tr>\n",
       "    <tr>\n",
       "      <th>27</th>\n",
       "      <td>beta_moving_std_4</td>\n",
       "      <td>0.011</td>\n",
       "    </tr>\n",
       "    <tr>\n",
       "      <th>26</th>\n",
       "      <td>beta_moving_var_4</td>\n",
       "      <td>0.010</td>\n",
       "    </tr>\n",
       "    <tr>\n",
       "      <th>18</th>\n",
       "      <td>gamma_moving_var_4</td>\n",
       "      <td>0.006</td>\n",
       "    </tr>\n",
       "    <tr>\n",
       "      <th>42</th>\n",
       "      <td>gamma_moving_var_8</td>\n",
       "      <td>0.006</td>\n",
       "    </tr>\n",
       "    <tr>\n",
       "      <th>3</th>\n",
       "      <td>d3_std</td>\n",
       "      <td>0.006</td>\n",
       "    </tr>\n",
       "    <tr>\n",
       "      <th>43</th>\n",
       "      <td>gamma_moving_std_8</td>\n",
       "      <td>0.005</td>\n",
       "    </tr>\n",
       "    <tr>\n",
       "      <th>51</th>\n",
       "      <td>beta_moving_std_8</td>\n",
       "      <td>0.004</td>\n",
       "    </tr>\n",
       "    <tr>\n",
       "      <th>50</th>\n",
       "      <td>beta_moving_var_8</td>\n",
       "      <td>0.004</td>\n",
       "    </tr>\n",
       "    <tr>\n",
       "      <th>15</th>\n",
       "      <td>beta_moving_std_12</td>\n",
       "      <td>0.003</td>\n",
       "    </tr>\n",
       "    <tr>\n",
       "      <th>14</th>\n",
       "      <td>beta_moving_var_12</td>\n",
       "      <td>0.003</td>\n",
       "    </tr>\n",
       "    <tr>\n",
       "      <th>19</th>\n",
       "      <td>gamma_moving_std_4</td>\n",
       "      <td>0.002</td>\n",
       "    </tr>\n",
       "    <tr>\n",
       "      <th>38</th>\n",
       "      <td>beta_moving_var_16</td>\n",
       "      <td>0.001</td>\n",
       "    </tr>\n",
       "    <tr>\n",
       "      <th>39</th>\n",
       "      <td>beta_moving_std_16</td>\n",
       "      <td>0.001</td>\n",
       "    </tr>\n",
       "    <tr>\n",
       "      <th>32</th>\n",
       "      <td>alpha_moving_avg_16</td>\n",
       "      <td>0.000</td>\n",
       "    </tr>\n",
       "    <tr>\n",
       "      <th>20</th>\n",
       "      <td>alpha_moving_avg_4</td>\n",
       "      <td>0.000</td>\n",
       "    </tr>\n",
       "    <tr>\n",
       "      <th>45</th>\n",
       "      <td>alpha_moving_sum_8</td>\n",
       "      <td>0.000</td>\n",
       "    </tr>\n",
       "    <tr>\n",
       "      <th>17</th>\n",
       "      <td>gamma_moving_sum_4</td>\n",
       "      <td>0.000</td>\n",
       "    </tr>\n",
       "    <tr>\n",
       "      <th>41</th>\n",
       "      <td>gamma_moving_sum_8</td>\n",
       "      <td>0.000</td>\n",
       "    </tr>\n",
       "    <tr>\n",
       "      <th>16</th>\n",
       "      <td>gamma_moving_avg_4</td>\n",
       "      <td>0.000</td>\n",
       "    </tr>\n",
       "    <tr>\n",
       "      <th>4</th>\n",
       "      <td>gamma_moving_avg_12</td>\n",
       "      <td>0.000</td>\n",
       "    </tr>\n",
       "    <tr>\n",
       "      <th>33</th>\n",
       "      <td>alpha_moving_sum_16</td>\n",
       "      <td>0.000</td>\n",
       "    </tr>\n",
       "    <tr>\n",
       "      <th>29</th>\n",
       "      <td>gamma_moving_sum_16</td>\n",
       "      <td>0.000</td>\n",
       "    </tr>\n",
       "    <tr>\n",
       "      <th>40</th>\n",
       "      <td>gamma_moving_avg_8</td>\n",
       "      <td>0.000</td>\n",
       "    </tr>\n",
       "    <tr>\n",
       "      <th>9</th>\n",
       "      <td>alpha_moving_sum_12</td>\n",
       "      <td>0.000</td>\n",
       "    </tr>\n",
       "    <tr>\n",
       "      <th>5</th>\n",
       "      <td>gamma_moving_sum_12</td>\n",
       "      <td>0.000</td>\n",
       "    </tr>\n",
       "    <tr>\n",
       "      <th>44</th>\n",
       "      <td>alpha_moving_avg_8</td>\n",
       "      <td>0.000</td>\n",
       "    </tr>\n",
       "    <tr>\n",
       "      <th>8</th>\n",
       "      <td>alpha_moving_avg_12</td>\n",
       "      <td>0.000</td>\n",
       "    </tr>\n",
       "    <tr>\n",
       "      <th>28</th>\n",
       "      <td>gamma_moving_avg_16</td>\n",
       "      <td>0.000</td>\n",
       "    </tr>\n",
       "    <tr>\n",
       "      <th>21</th>\n",
       "      <td>alpha_moving_sum_4</td>\n",
       "      <td>0.000</td>\n",
       "    </tr>\n",
       "  </tbody>\n",
       "</table>\n",
       "</div>"
      ],
      "text/plain": [
       "               Features  Importances\n",
       "24    beta_moving_avg_4        0.083\n",
       "25    beta_moving_sum_4        0.079\n",
       "48    beta_moving_avg_8        0.069\n",
       "23   alpha_moving_std_4        0.067\n",
       "49    beta_moving_sum_8        0.066\n",
       "22   alpha_moving_var_4        0.055\n",
       "1               d3_mean        0.049\n",
       "34  alpha_moving_var_16        0.044\n",
       "13   beta_moving_sum_12        0.042\n",
       "10  alpha_moving_var_12        0.042\n",
       "11  alpha_moving_std_12        0.039\n",
       "35  alpha_moving_std_16        0.039\n",
       "2                d3_max        0.038\n",
       "47   alpha_moving_std_8        0.035\n",
       "46   alpha_moving_var_8        0.033\n",
       "12   beta_moving_avg_12        0.032\n",
       "37   beta_moving_sum_16        0.023\n",
       "31  gamma_moving_std_16        0.023\n",
       "36   beta_moving_avg_16        0.018\n",
       "30  gamma_moving_var_16        0.018\n",
       "0                    d3        0.015\n",
       "6   gamma_moving_var_12        0.015\n",
       "7   gamma_moving_std_12        0.014\n",
       "27    beta_moving_std_4        0.011\n",
       "26    beta_moving_var_4        0.010\n",
       "18   gamma_moving_var_4        0.006\n",
       "42   gamma_moving_var_8        0.006\n",
       "3                d3_std        0.006\n",
       "43   gamma_moving_std_8        0.005\n",
       "51    beta_moving_std_8        0.004\n",
       "50    beta_moving_var_8        0.004\n",
       "15   beta_moving_std_12        0.003\n",
       "14   beta_moving_var_12        0.003\n",
       "19   gamma_moving_std_4        0.002\n",
       "38   beta_moving_var_16        0.001\n",
       "39   beta_moving_std_16        0.001\n",
       "32  alpha_moving_avg_16        0.000\n",
       "20   alpha_moving_avg_4        0.000\n",
       "45   alpha_moving_sum_8        0.000\n",
       "17   gamma_moving_sum_4        0.000\n",
       "41   gamma_moving_sum_8        0.000\n",
       "16   gamma_moving_avg_4        0.000\n",
       "4   gamma_moving_avg_12        0.000\n",
       "33  alpha_moving_sum_16        0.000\n",
       "29  gamma_moving_sum_16        0.000\n",
       "40   gamma_moving_avg_8        0.000\n",
       "9   alpha_moving_sum_12        0.000\n",
       "5   gamma_moving_sum_12        0.000\n",
       "44   alpha_moving_avg_8        0.000\n",
       "8   alpha_moving_avg_12        0.000\n",
       "28  gamma_moving_avg_16        0.000\n",
       "21   alpha_moving_sum_4        0.000"
      ]
     },
     "execution_count": 24,
     "metadata": {},
     "output_type": "execute_result"
    }
   ],
   "source": [
    "features = X.columns\n",
    "importances = rf_classifier.feature_importances_.shape\n",
    "ft_importances = pd.DataFrame({'Features': X.columns, 'Importances': rf_classifier.feature_importances_}).sort_values('Importances',ascending=False)\n",
    "\n",
    "ft_importances"
   ]
  },
  {
   "cell_type": "markdown",
   "metadata": {},
   "source": [
    "Feature elimination: <br>\n",
    "* Take most important, make prediction\n",
    "* Apply second most important feature\n",
    "* If prediction gets better than a specified limit, take it"
   ]
  },
  {
   "cell_type": "code",
   "execution_count": 108,
   "metadata": {
    "ExecuteTime": {
     "end_time": "2019-11-06T18:59:59.375911Z",
     "start_time": "2019-11-06T18:59:53.481847Z"
    },
    "scrolled": false
   },
   "outputs": [
    {
     "name": "stdout",
     "output_type": "stream",
     "text": [
      "Feature List:  ['beta_moving_avg_4']\n",
      "  Score: 0.7602199378436528\n",
      "  Difference Last Score: 0.7602199378436528\n",
      "  Keep Feature:  beta_moving_avg_4\n",
      "\n",
      "\n",
      "Feature List:  ['beta_moving_avg_4', 'beta_moving_sum_4']\n",
      "  Score: 0.7602199378436528\n",
      "  Difference Last Score: 0.0\n",
      "  Delete Feature:  beta_moving_sum_4\n",
      "\n",
      "\n",
      "Feature List:  ['beta_moving_avg_4', 'beta_moving_avg_8']\n",
      "  Score: 0.7716949557733684\n",
      "  Difference Last Score: 0.011475017929715614\n",
      "  Delete Feature:  beta_moving_avg_8\n",
      "\n",
      "\n",
      "Feature List:  ['beta_moving_avg_4', 'alpha_moving_std_4']\n",
      "  Score: 0.8835763805880946\n",
      "  Difference Last Score: 0.1233564427444418\n",
      "  Keep Feature:  alpha_moving_std_4\n",
      "\n",
      "\n",
      "Feature List:  ['beta_moving_avg_4', 'alpha_moving_std_4', 'beta_moving_sum_8']\n",
      "  Score: 0.8828591919674874\n",
      "  Difference Last Score: -0.000717188620607212\n",
      "  Delete Feature:  beta_moving_sum_8\n",
      "\n",
      "\n",
      "Feature List:  ['beta_moving_avg_4', 'alpha_moving_std_4', 'alpha_moving_var_4']\n",
      "  Score: 0.8830982548410232\n",
      "  Difference Last Score: -0.00047812574707140065\n",
      "  Delete Feature:  alpha_moving_var_4\n",
      "\n",
      "\n",
      "Feature List:  ['beta_moving_avg_4', 'alpha_moving_std_4', 'd3_mean']\n",
      "  Score: 0.9397561558689935\n",
      "  Difference Last Score: 0.0561797752808989\n",
      "  Keep Feature:  d3_mean\n",
      "\n",
      "\n",
      "Feature List:  ['beta_moving_avg_4', 'alpha_moving_std_4', 'd3_mean', 'alpha_moving_var_16']\n",
      "  Score: 0.9397561558689935\n",
      "  Difference Last Score: 0.0\n",
      "  Delete Feature:  alpha_moving_var_16\n",
      "\n",
      "\n",
      "Feature List:  ['beta_moving_avg_4', 'alpha_moving_std_4', 'd3_mean', 'beta_moving_sum_12']\n",
      "  Score: 0.930193640927564\n",
      "  Difference Last Score: -0.009562514941429567\n",
      "  Delete Feature:  beta_moving_sum_12\n",
      "\n",
      "\n",
      "Feature List:  ['beta_moving_avg_4', 'alpha_moving_std_4', 'd3_mean', 'alpha_moving_var_12']\n",
      "  Score: 0.9373655271336362\n",
      "  Difference Last Score: -0.0023906287353573363\n",
      "  Delete Feature:  alpha_moving_var_12\n",
      "\n",
      "\n",
      "Feature List:  ['beta_moving_avg_4', 'alpha_moving_std_4', 'd3_mean', 'alpha_moving_std_12']\n",
      "  Score: 0.9373655271336362\n",
      "  Difference Last Score: -0.0023906287353573363\n",
      "  Delete Feature:  alpha_moving_std_12\n",
      "\n",
      "\n",
      "Feature List:  ['beta_moving_avg_4', 'alpha_moving_std_4', 'd3_mean', 'alpha_moving_std_16']\n",
      "  Score: 0.9397561558689935\n",
      "  Difference Last Score: 0.0\n",
      "  Delete Feature:  alpha_moving_std_16\n",
      "\n",
      "\n",
      "Feature List:  ['beta_moving_avg_4', 'alpha_moving_std_4', 'd3_mean', 'd3_max']\n",
      "  Score: 0.9364092756394932\n",
      "  Difference Last Score: -0.0033468802295003597\n",
      "  Delete Feature:  d3_max\n",
      "\n",
      "\n",
      "Feature List:  ['beta_moving_avg_4', 'alpha_moving_std_4', 'd3_mean', 'alpha_moving_std_8']\n",
      "  Score: 0.9390389672483863\n",
      "  Difference Last Score: -0.000717188620607212\n",
      "  Delete Feature:  alpha_moving_std_8\n",
      "\n",
      "\n",
      "Feature List:  ['beta_moving_avg_4', 'alpha_moving_std_4', 'd3_mean', 'alpha_moving_var_8']\n",
      "  Score: 0.9390389672483863\n",
      "  Difference Last Score: -0.000717188620607212\n",
      "  Delete Feature:  alpha_moving_var_8\n",
      "\n",
      "\n",
      "Feature List:  ['beta_moving_avg_4', 'alpha_moving_std_4', 'd3_mean', 'beta_moving_avg_12']\n",
      "  Score: 0.930193640927564\n",
      "  Difference Last Score: -0.009562514941429567\n",
      "  Delete Feature:  beta_moving_avg_12\n",
      "\n",
      "\n",
      "Feature List:  ['beta_moving_avg_4', 'alpha_moving_std_4', 'd3_mean', 'beta_moving_sum_16']\n",
      "  Score: 0.9387999043748506\n",
      "  Difference Last Score: -0.0009562514941429123\n",
      "  Delete Feature:  beta_moving_sum_16\n",
      "\n",
      "\n",
      "Feature List:  ['beta_moving_avg_4', 'alpha_moving_std_4', 'd3_mean', 'gamma_moving_std_16']\n",
      "  Score: 0.9373655271336362\n",
      "  Difference Last Score: -0.0023906287353573363\n",
      "  Delete Feature:  gamma_moving_std_16\n",
      "\n",
      "\n",
      "Feature List:  ['beta_moving_avg_4', 'alpha_moving_std_4', 'd3_mean', 'beta_moving_avg_16']\n",
      "  Score: 0.9387999043748506\n",
      "  Difference Last Score: -0.0009562514941429123\n",
      "  Delete Feature:  beta_moving_avg_16\n",
      "\n",
      "\n",
      "Feature List:  ['beta_moving_avg_4', 'alpha_moving_std_4', 'd3_mean', 'gamma_moving_var_16']\n",
      "  Score: 0.9373655271336362\n",
      "  Difference Last Score: -0.0023906287353573363\n",
      "  Delete Feature:  gamma_moving_var_16\n",
      "\n",
      "\n",
      "Feature List:  ['beta_moving_avg_4', 'alpha_moving_std_4', 'd3_mean', 'd3']\n",
      "  Score: 0.9373655271336362\n",
      "  Difference Last Score: -0.0023906287353573363\n",
      "  Delete Feature:  d3\n",
      "\n",
      "\n",
      "Feature List:  ['beta_moving_avg_4', 'alpha_moving_std_4', 'd3_mean', 'gamma_moving_var_12']\n",
      "  Score: 0.9397561558689935\n",
      "  Difference Last Score: 0.0\n",
      "  Delete Feature:  gamma_moving_var_12\n",
      "\n",
      "\n",
      "Feature List:  ['beta_moving_avg_4', 'alpha_moving_std_4', 'd3_mean', 'gamma_moving_std_12']\n",
      "  Score: 0.9397561558689935\n",
      "  Difference Last Score: 0.0\n",
      "  Delete Feature:  gamma_moving_std_12\n",
      "\n",
      "\n",
      "Feature List:  ['beta_moving_avg_4', 'alpha_moving_std_4', 'd3_mean', 'beta_moving_std_4']\n",
      "  Score: 0.9368874013865647\n",
      "  Difference Last Score: -0.002868754482428848\n",
      "  Delete Feature:  beta_moving_std_4\n",
      "\n",
      "\n",
      "Feature List:  ['beta_moving_avg_4', 'alpha_moving_std_4', 'd3_mean', 'beta_moving_var_4']\n",
      "  Score: 0.9368874013865647\n",
      "  Difference Last Score: -0.002868754482428848\n",
      "  Delete Feature:  beta_moving_var_4\n",
      "\n",
      "\n",
      "Feature List:  ['beta_moving_avg_4', 'alpha_moving_std_4', 'd3_mean', 'gamma_moving_var_4']\n",
      "  Score: 0.9344967726512072\n",
      "  Difference Last Score: -0.005259383217786295\n",
      "  Delete Feature:  gamma_moving_var_4\n",
      "\n",
      "\n",
      "Feature List:  ['beta_moving_avg_4', 'alpha_moving_std_4', 'd3_mean', 'gamma_moving_var_8']\n",
      "  Score: 0.935692087018886\n",
      "  Difference Last Score: -0.004064068850107572\n",
      "  Delete Feature:  gamma_moving_var_8\n",
      "\n",
      "\n",
      "Feature List:  ['beta_moving_avg_4', 'alpha_moving_std_4', 'd3_mean', 'd3_std']\n",
      "  Score: 0.9385608415013148\n",
      "  Difference Last Score: -0.0011953143676787237\n",
      "  Delete Feature:  d3_std\n",
      "\n",
      "\n",
      "Feature List:  ['beta_moving_avg_4', 'alpha_moving_std_4', 'd3_mean', 'gamma_moving_std_8']\n",
      "  Score: 0.935692087018886\n",
      "  Difference Last Score: -0.004064068850107572\n",
      "  Delete Feature:  gamma_moving_std_8\n",
      "\n",
      "\n",
      "Feature List:  ['beta_moving_avg_4', 'alpha_moving_std_4', 'd3_mean', 'beta_moving_std_8']\n",
      "  Score: 0.9349748983982787\n",
      "  Difference Last Score: -0.004781257470714784\n",
      "  Delete Feature:  beta_moving_std_8\n",
      "\n",
      "\n",
      "Feature List:  ['beta_moving_avg_4', 'alpha_moving_std_4', 'd3_mean', 'beta_moving_var_8']\n",
      "  Score: 0.9349748983982787\n",
      "  Difference Last Score: -0.004781257470714784\n",
      "  Delete Feature:  beta_moving_var_8\n",
      "\n",
      "\n",
      "Feature List:  ['beta_moving_avg_4', 'alpha_moving_std_4', 'd3_mean', 'beta_moving_std_12']\n",
      "  Score: 0.936648338513029\n",
      "  Difference Last Score: -0.0031078173559645483\n",
      "  Delete Feature:  beta_moving_std_12\n",
      "\n",
      "\n",
      "Feature List:  ['beta_moving_avg_4', 'alpha_moving_std_4', 'd3_mean', 'beta_moving_var_12']\n",
      "  Score: 0.936648338513029\n",
      "  Difference Last Score: -0.0031078173559645483\n",
      "  Delete Feature:  beta_moving_var_12\n",
      "\n",
      "\n",
      "Feature List:  ['beta_moving_avg_4', 'alpha_moving_std_4', 'd3_mean', 'gamma_moving_std_4']\n",
      "  Score: 0.9344967726512072\n",
      "  Difference Last Score: -0.005259383217786295\n",
      "  Delete Feature:  gamma_moving_std_4\n",
      "\n",
      "\n",
      "Feature List:  ['beta_moving_avg_4', 'alpha_moving_std_4', 'd3_mean', 'beta_moving_var_16']\n",
      "  Score: 0.9383217786277791\n",
      "  Difference Last Score: -0.001434377241214424\n",
      "  Delete Feature:  beta_moving_var_16\n",
      "\n",
      "\n",
      "Feature List:  ['beta_moving_avg_4', 'alpha_moving_std_4', 'd3_mean', 'beta_moving_std_16']\n",
      "  Score: 0.9383217786277791\n",
      "  Difference Last Score: -0.001434377241214424\n",
      "  Delete Feature:  beta_moving_std_16\n",
      "\n",
      "\n",
      "Feature List:  ['beta_moving_avg_4', 'alpha_moving_std_4', 'd3_mean', 'alpha_moving_avg_16']\n",
      "  Score: 0.942146784604351\n",
      "  Difference Last Score: 0.0023906287353574474\n",
      "  Delete Feature:  alpha_moving_avg_16\n",
      "\n",
      "\n",
      "Feature List:  ['beta_moving_avg_4', 'alpha_moving_std_4', 'd3_mean', 'alpha_moving_avg_4']\n",
      "  Score: 0.9428639732249582\n",
      "  Difference Last Score: 0.0031078173559646594\n",
      "  Delete Feature:  alpha_moving_avg_4\n",
      "\n",
      "\n",
      "Feature List:  ['beta_moving_avg_4', 'alpha_moving_std_4', 'd3_mean', 'alpha_moving_sum_8']\n",
      "  Score: 0.9416686588572795\n",
      "  Difference Last Score: 0.0019125029882859357\n",
      "  Delete Feature:  alpha_moving_sum_8\n",
      "\n",
      "\n",
      "Feature List:  ['beta_moving_avg_4', 'alpha_moving_std_4', 'd3_mean', 'gamma_moving_sum_4']\n",
      "  Score: 0.9404733444896007\n",
      "  Difference Last Score: 0.000717188620607212\n",
      "  Delete Feature:  gamma_moving_sum_4\n",
      "\n",
      "\n",
      "Feature List:  ['beta_moving_avg_4', 'alpha_moving_std_4', 'd3_mean', 'gamma_moving_sum_8']\n",
      "  Score: 0.942146784604351\n",
      "  Difference Last Score: 0.0023906287353574474\n",
      "  Delete Feature:  gamma_moving_sum_8\n",
      "\n",
      "\n",
      "Feature List:  ['beta_moving_avg_4', 'alpha_moving_std_4', 'd3_mean', 'gamma_moving_avg_4']\n",
      "  Score: 0.9404733444896007\n",
      "  Difference Last Score: 0.000717188620607212\n",
      "  Delete Feature:  gamma_moving_avg_4\n",
      "\n",
      "\n",
      "Feature List:  ['beta_moving_avg_4', 'alpha_moving_std_4', 'd3_mean', 'gamma_moving_avg_12']\n",
      "  Score: 0.934735835524743\n",
      "  Difference Last Score: -0.005020320344250484\n",
      "  Delete Feature:  gamma_moving_avg_12\n",
      "\n",
      "\n"
     ]
    },
    {
     "name": "stdout",
     "output_type": "stream",
     "text": [
      "Feature List:  ['beta_moving_avg_4', 'alpha_moving_std_4', 'd3_mean', 'alpha_moving_sum_16']\n",
      "  Score: 0.942146784604351\n",
      "  Difference Last Score: 0.0023906287353574474\n",
      "  Delete Feature:  alpha_moving_sum_16\n",
      "\n",
      "\n",
      "Feature List:  ['beta_moving_avg_4', 'alpha_moving_std_4', 'd3_mean', 'gamma_moving_sum_16']\n",
      "  Score: 0.9385608415013148\n",
      "  Difference Last Score: -0.0011953143676787237\n",
      "  Delete Feature:  gamma_moving_sum_16\n",
      "\n",
      "\n",
      "Feature List:  ['beta_moving_avg_4', 'alpha_moving_std_4', 'd3_mean', 'gamma_moving_avg_8']\n",
      "  Score: 0.942146784604351\n",
      "  Difference Last Score: 0.0023906287353574474\n",
      "  Delete Feature:  gamma_moving_avg_8\n",
      "\n",
      "\n",
      "Feature List:  ['beta_moving_avg_4', 'alpha_moving_std_4', 'd3_mean', 'alpha_moving_sum_12']\n",
      "  Score: 0.9445374133397083\n",
      "  Difference Last Score: 0.004781257470714784\n",
      "  Delete Feature:  alpha_moving_sum_12\n",
      "\n",
      "\n",
      "Feature List:  ['beta_moving_avg_4', 'alpha_moving_std_4', 'd3_mean', 'gamma_moving_sum_12']\n",
      "  Score: 0.934735835524743\n",
      "  Difference Last Score: -0.005020320344250484\n",
      "  Delete Feature:  gamma_moving_sum_12\n",
      "\n",
      "\n",
      "Feature List:  ['beta_moving_avg_4', 'alpha_moving_std_4', 'd3_mean', 'alpha_moving_avg_8']\n",
      "  Score: 0.9416686588572795\n",
      "  Difference Last Score: 0.0019125029882859357\n",
      "  Delete Feature:  alpha_moving_avg_8\n",
      "\n",
      "\n",
      "Feature List:  ['beta_moving_avg_4', 'alpha_moving_std_4', 'd3_mean', 'alpha_moving_avg_12']\n",
      "  Score: 0.9445374133397083\n",
      "  Difference Last Score: 0.004781257470714784\n",
      "  Delete Feature:  alpha_moving_avg_12\n",
      "\n",
      "\n",
      "Feature List:  ['beta_moving_avg_4', 'alpha_moving_std_4', 'd3_mean', 'gamma_moving_avg_16']\n",
      "  Score: 0.9385608415013148\n",
      "  Difference Last Score: -0.0011953143676787237\n",
      "  Delete Feature:  gamma_moving_avg_16\n",
      "\n",
      "\n",
      "Feature List:  ['beta_moving_avg_4', 'alpha_moving_std_4', 'd3_mean', 'alpha_moving_sum_4']\n",
      "  Score: 0.9428639732249582\n",
      "  Difference Last Score: 0.0031078173559646594\n",
      "  Delete Feature:  alpha_moving_sum_4\n",
      "\n",
      "\n"
     ]
    }
   ],
   "source": [
    "# Recursive Feature Elimination\n",
    "X_train, X_test, y_train, y_test = train_test_split(X, y, test_size=test_size, random_state=seed)\n",
    "best_features = np.array(ft_importances.index)\n",
    "\n",
    "limit = 0.019\n",
    "\n",
    "features = np.array(features)\n",
    "feature_list = []\n",
    "last_score = 0\n",
    "for feature in best_features:\n",
    "    feature_list.append(feature)\n",
    "    \n",
    "    # Train Model\n",
    "    tree_classifier = DecisionTreeClassifier(criterion='entropy',random_state=seed, max_depth=7)\n",
    "    tree_classifier.fit(X_train.iloc[:,feature_list],y_train)\n",
    "    y_pred = tree_classifier.predict(X_test.iloc[:,feature_list])\n",
    "    \n",
    "    # Evaluation\n",
    "    cm = confusion_matrix(y_test,y_pred)\n",
    "    score = (cm[0][0] + cm[1][1] + cm[2][2]) / sum(sum(cm))\n",
    "    diff = score - last_score\n",
    "    \n",
    "    \n",
    "    print('Feature List: ',list(features[feature_list]))\n",
    "    print('  Score: ' + str(score))\n",
    "    print('  Difference Last Score: ' + str(diff))\n",
    "    \n",
    "    if(diff > limit):\n",
    "        print('  Keep Feature: ',features[feature])\n",
    "        last_score = score\n",
    "    elif(diff == limit):\n",
    "        print('  Delete Feature: ',features[feature])\n",
    "        del feature_list[-1]\n",
    "    else:\n",
    "        print('  Delete Feature: ',features[feature])\n",
    "        del feature_list[-1]\n",
    "    print('\\n')"
   ]
  },
  {
   "cell_type": "markdown",
   "metadata": {},
   "source": [
    "I kept every feature except beta_moving_avg_8 because I already got beta_moving_avg_4 "
   ]
  },
  {
   "cell_type": "code",
   "execution_count": 80,
   "metadata": {
    "ExecuteTime": {
     "end_time": "2019-11-06T15:58:59.067340Z",
     "start_time": "2019-11-06T15:58:59.061781Z"
    }
   },
   "outputs": [],
   "source": [
    "final_features = feature_list"
   ]
  },
  {
   "cell_type": "markdown",
   "metadata": {},
   "source": [
    "## Cross Validation of Results and Hyperparameter Tuning\n",
    "\n",
    "* 10 fold CV \n",
    "* Hyperparameter tuning with random search and 1000 Iterations"
   ]
  },
  {
   "cell_type": "code",
   "execution_count": 93,
   "metadata": {
    "ExecuteTime": {
     "end_time": "2019-11-06T16:04:08.089424Z",
     "start_time": "2019-11-06T16:04:08.083408Z"
    }
   },
   "outputs": [],
   "source": [
    "from sklearn.model_selection import RandomizedSearchCV"
   ]
  },
  {
   "cell_type": "code",
   "execution_count": 94,
   "metadata": {
    "ExecuteTime": {
     "end_time": "2019-11-06T16:04:11.017033Z",
     "start_time": "2019-11-06T16:04:11.001743Z"
    }
   },
   "outputs": [],
   "source": [
    "# Utility function to report best scores\n",
    "def report(results, booster, n_top = 20):\n",
    "    rank = []\n",
    "    mean_score = []\n",
    "    std_score = []\n",
    "    max_d = []\n",
    "    min_samp_l = []\n",
    "    min_samp_s = []\n",
    "    for i in range(1, n_top + 1):\n",
    "        candidates = np.flatnonzero(results['rank_test_score'] == i)\n",
    "        for candidate in candidates:\n",
    "            rank.append(i)\n",
    "            mean_score.append(results['mean_test_score'][candidate])\n",
    "            std_score.append(results['std_test_score'][candidate])\n",
    "            max_d.append(results['params'][candidate]['max_depth'])\n",
    "            min_samp_l.append(results['params'][candidate]['min_samples_leaf'])\n",
    "            min_samp_s.append(results['params'][candidate]['min_samples_split'])\n",
    "    all_results = pd.DataFrame({'Booster': booster,\n",
    "                            'Rank':rank,\n",
    "                            'Mean CV':mean_score,\n",
    "                            'Std CV':std_score,\n",
    "                            'Max Depth':max_d,\n",
    "                            'Leafs':min_samp_l,\n",
    "                            'Splits':min_samp_s})\n",
    "    return all_results"
   ]
  },
  {
   "cell_type": "code",
   "execution_count": 96,
   "metadata": {
    "ExecuteTime": {
     "end_time": "2019-11-06T16:04:53.211757Z",
     "start_time": "2019-11-06T16:04:53.204658Z"
    }
   },
   "outputs": [],
   "source": [
    "param_dist = {\n",
    "    'max_depth': np.linspace(6,8,3,endpoint=True,dtype=np.int16),\n",
    "    'min_samples_leaf': np.linspace(0.2,0.01,1000,endpoint=True),\n",
    "    'min_samples_split': np.linspace(0.5,0.01,1000,endpoint=True),\n",
    "    }"
   ]
  },
  {
   "cell_type": "code",
   "execution_count": 97,
   "metadata": {
    "ExecuteTime": {
     "end_time": "2019-11-06T16:08:47.505213Z",
     "start_time": "2019-11-06T16:04:58.578593Z"
    }
   },
   "outputs": [
    {
     "data": {
      "text/plain": [
       "RandomizedSearchCV(cv=10, error_score='raise-deprecating',\n",
       "                   estimator=DecisionTreeClassifier(class_weight=None,\n",
       "                                                    criterion='gini',\n",
       "                                                    max_depth=None,\n",
       "                                                    max_features=None,\n",
       "                                                    max_leaf_nodes=None,\n",
       "                                                    min_impurity_decrease=0.0,\n",
       "                                                    min_impurity_split=None,\n",
       "                                                    min_samples_leaf=1,\n",
       "                                                    min_samples_split=2,\n",
       "                                                    min_weight_fraction_leaf=0.0,\n",
       "                                                    presort=False,\n",
       "                                                    random_state=123,\n",
       "                                                    splitter='best'),\n",
       "                   iid=Fa...\n",
       "       0.02177177, 0.02128128, 0.02079079, 0.0203003 , 0.01980981,\n",
       "       0.01931932, 0.01882883, 0.01833834, 0.01784785, 0.01735736,\n",
       "       0.01686687, 0.01637638, 0.01588589, 0.0153954 , 0.0149049 ,\n",
       "       0.01441441, 0.01392392, 0.01343343, 0.01294294, 0.01245245,\n",
       "       0.01196196, 0.01147147, 0.01098098, 0.01049049, 0.01      ])},\n",
       "                   pre_dispatch='2*n_jobs', random_state=123, refit=True,\n",
       "                   return_train_score=False, scoring='accuracy', verbose=False)"
      ]
     },
     "execution_count": 97,
     "metadata": {},
     "output_type": "execute_result"
    }
   ],
   "source": [
    "cv = 10\n",
    "n_iter_search = 1000\n",
    "seed = 123\n",
    "\n",
    "tree_classifier = DecisionTreeClassifier(random_state=seed)\n",
    "random_search_dt = RandomizedSearchCV(tree_classifier, \n",
    "                                      param_distributions=param_dist,\n",
    "                                      n_iter=n_iter_search, \n",
    "                                      cv=cv, \n",
    "                                      iid=False, \n",
    "                                      random_state = seed,\n",
    "                                      scoring = 'accuracy',\n",
    "                                      verbose = False)\n",
    "random_search_dt.fit(X_train.iloc[:,final_features],y_train)"
   ]
  },
  {
   "cell_type": "code",
   "execution_count": 98,
   "metadata": {
    "ExecuteTime": {
     "end_time": "2019-11-06T16:08:50.760825Z",
     "start_time": "2019-11-06T16:08:50.724605Z"
    }
   },
   "outputs": [
    {
     "name": "stdout",
     "output_type": "stream",
     "text": [
      "0.9344967726512072\n"
     ]
    }
   ],
   "source": [
    "y_pred = random_search_dt.predict(X_test.iloc[:,final_features])\n",
    "cm = confusion_matrix(y_test,y_pred)\n",
    "score = (cm[0][0] + cm[1][1] + cm[2][2]) / sum(sum(cm))\n",
    "print(score)"
   ]
  },
  {
   "cell_type": "code",
   "execution_count": 99,
   "metadata": {
    "ExecuteTime": {
     "end_time": "2019-11-06T16:08:53.886721Z",
     "start_time": "2019-11-06T16:08:53.861393Z"
    },
    "scrolled": false
   },
   "outputs": [
    {
     "data": {
      "text/html": [
       "<div>\n",
       "<style scoped>\n",
       "    .dataframe tbody tr th:only-of-type {\n",
       "        vertical-align: middle;\n",
       "    }\n",
       "\n",
       "    .dataframe tbody tr th {\n",
       "        vertical-align: top;\n",
       "    }\n",
       "\n",
       "    .dataframe thead th {\n",
       "        text-align: right;\n",
       "    }\n",
       "</style>\n",
       "<table border=\"1\" class=\"dataframe\">\n",
       "  <thead>\n",
       "    <tr style=\"text-align: right;\">\n",
       "      <th></th>\n",
       "      <th>Booster</th>\n",
       "      <th>Rank</th>\n",
       "      <th>Mean CV</th>\n",
       "      <th>Std CV</th>\n",
       "      <th>Max Depth</th>\n",
       "      <th>Leafs</th>\n",
       "      <th>Splits</th>\n",
       "    </tr>\n",
       "  </thead>\n",
       "  <tbody>\n",
       "    <tr>\n",
       "      <th>0</th>\n",
       "      <td>Decision Tree</td>\n",
       "      <td>1</td>\n",
       "      <td>0.925</td>\n",
       "      <td>0.005</td>\n",
       "      <td>7</td>\n",
       "      <td>0.014</td>\n",
       "      <td>0.022</td>\n",
       "    </tr>\n",
       "    <tr>\n",
       "      <th>1</th>\n",
       "      <td>Decision Tree</td>\n",
       "      <td>1</td>\n",
       "      <td>0.925</td>\n",
       "      <td>0.005</td>\n",
       "      <td>6</td>\n",
       "      <td>0.014</td>\n",
       "      <td>0.017</td>\n",
       "    </tr>\n",
       "    <tr>\n",
       "      <th>2</th>\n",
       "      <td>Decision Tree</td>\n",
       "      <td>3</td>\n",
       "      <td>0.924</td>\n",
       "      <td>0.005</td>\n",
       "      <td>8</td>\n",
       "      <td>0.015</td>\n",
       "      <td>0.017</td>\n",
       "    </tr>\n",
       "    <tr>\n",
       "      <th>3</th>\n",
       "      <td>Decision Tree</td>\n",
       "      <td>4</td>\n",
       "      <td>0.924</td>\n",
       "      <td>0.005</td>\n",
       "      <td>7</td>\n",
       "      <td>0.015</td>\n",
       "      <td>0.029</td>\n",
       "    </tr>\n",
       "    <tr>\n",
       "      <th>4</th>\n",
       "      <td>Decision Tree</td>\n",
       "      <td>5</td>\n",
       "      <td>0.923</td>\n",
       "      <td>0.005</td>\n",
       "      <td>7</td>\n",
       "      <td>0.011</td>\n",
       "      <td>0.028</td>\n",
       "    </tr>\n",
       "    <tr>\n",
       "      <th>...</th>\n",
       "      <td>...</td>\n",
       "      <td>...</td>\n",
       "      <td>...</td>\n",
       "      <td>...</td>\n",
       "      <td>...</td>\n",
       "      <td>...</td>\n",
       "      <td>...</td>\n",
       "    </tr>\n",
       "    <tr>\n",
       "      <th>63</th>\n",
       "      <td>Decision Tree</td>\n",
       "      <td>16</td>\n",
       "      <td>0.922</td>\n",
       "      <td>0.006</td>\n",
       "      <td>8</td>\n",
       "      <td>0.011</td>\n",
       "      <td>0.282</td>\n",
       "    </tr>\n",
       "    <tr>\n",
       "      <th>64</th>\n",
       "      <td>Decision Tree</td>\n",
       "      <td>16</td>\n",
       "      <td>0.922</td>\n",
       "      <td>0.006</td>\n",
       "      <td>6</td>\n",
       "      <td>0.016</td>\n",
       "      <td>0.139</td>\n",
       "    </tr>\n",
       "    <tr>\n",
       "      <th>65</th>\n",
       "      <td>Decision Tree</td>\n",
       "      <td>16</td>\n",
       "      <td>0.922</td>\n",
       "      <td>0.006</td>\n",
       "      <td>8</td>\n",
       "      <td>0.021</td>\n",
       "      <td>0.364</td>\n",
       "    </tr>\n",
       "    <tr>\n",
       "      <th>66</th>\n",
       "      <td>Decision Tree</td>\n",
       "      <td>16</td>\n",
       "      <td>0.922</td>\n",
       "      <td>0.006</td>\n",
       "      <td>6</td>\n",
       "      <td>0.022</td>\n",
       "      <td>0.089</td>\n",
       "    </tr>\n",
       "    <tr>\n",
       "      <th>67</th>\n",
       "      <td>Decision Tree</td>\n",
       "      <td>16</td>\n",
       "      <td>0.922</td>\n",
       "      <td>0.006</td>\n",
       "      <td>8</td>\n",
       "      <td>0.022</td>\n",
       "      <td>0.376</td>\n",
       "    </tr>\n",
       "  </tbody>\n",
       "</table>\n",
       "<p>68 rows × 7 columns</p>\n",
       "</div>"
      ],
      "text/plain": [
       "          Booster  Rank  Mean CV  Std CV  Max Depth  Leafs  Splits\n",
       "0   Decision Tree     1    0.925   0.005          7  0.014   0.022\n",
       "1   Decision Tree     1    0.925   0.005          6  0.014   0.017\n",
       "2   Decision Tree     3    0.924   0.005          8  0.015   0.017\n",
       "3   Decision Tree     4    0.924   0.005          7  0.015   0.029\n",
       "4   Decision Tree     5    0.923   0.005          7  0.011   0.028\n",
       "..            ...   ...      ...     ...        ...    ...     ...\n",
       "63  Decision Tree    16    0.922   0.006          8  0.011   0.282\n",
       "64  Decision Tree    16    0.922   0.006          6  0.016   0.139\n",
       "65  Decision Tree    16    0.922   0.006          8  0.021   0.364\n",
       "66  Decision Tree    16    0.922   0.006          6  0.022   0.089\n",
       "67  Decision Tree    16    0.922   0.006          8  0.022   0.376\n",
       "\n",
       "[68 rows x 7 columns]"
      ]
     },
     "execution_count": 99,
     "metadata": {},
     "output_type": "execute_result"
    }
   ],
   "source": [
    "results = report(random_search_dt.cv_results_, 'Decision Tree')\n",
    "results"
   ]
  },
  {
   "cell_type": "code",
   "execution_count": 104,
   "metadata": {
    "ExecuteTime": {
     "end_time": "2019-11-06T16:20:03.337991Z",
     "start_time": "2019-11-06T16:20:03.332981Z"
    }
   },
   "outputs": [],
   "source": [
    "best_depth = results.iloc[0]['Max Depth']\n",
    "best_leafs = results.iloc[0]['Leafs']\n",
    "best_splits = results.iloc[0]['Splits']"
   ]
  },
  {
   "cell_type": "markdown",
   "metadata": {},
   "source": [
    "# Show Resulting Tree"
   ]
  },
  {
   "cell_type": "code",
   "execution_count": 107,
   "metadata": {
    "ExecuteTime": {
     "end_time": "2019-11-06T16:25:36.066354Z",
     "start_time": "2019-11-06T16:25:32.995800Z"
    },
    "scrolled": false
   },
   "outputs": [
    {
     "data": {
      "text/plain": [
       "[Text(379.07608695652175, 764.4375, 'beta_moving_avg_4 <= 6.503\\nentropy = 1.585\\nsamples = 12673\\nvalue = [4204, 4226, 4243]\\nclass = walking'),\n",
       " Text(121.30434782608695, 662.5125, 'beta_moving_avg_4 <= 1.058\\nentropy = 0.006\\nsamples = 4183\\nvalue = [4181, 0, 2]\\nclass = sitting'),\n",
       " Text(60.65217391304348, 560.5875, 'entropy = 0.0\\nsamples = 4003\\nvalue = [4003, 0, 0]\\nclass = sitting'),\n",
       " Text(181.95652173913044, 560.5875, 'entropy = 0.088\\nsamples = 180\\nvalue = [178, 0, 2]\\nclass = sitting'),\n",
       " Text(636.8478260869565, 662.5125, 'd3_mean <= 2.428\\nentropy = 1.024\\nsamples = 8490\\nvalue = [23, 4226, 4241]\\nclass = walking'),\n",
       " Text(303.2608695652174, 560.5875, 'd3_mean <= 1.632\\nentropy = 0.194\\nsamples = 3122\\nvalue = [1, 3030, 91]\\nclass = standing'),\n",
       " Text(181.95652173913044, 458.66249999999997, 'd3_mean <= 0.853\\nentropy = 0.049\\nsamples = 2536\\nvalue = [0, 2522, 14]\\nclass = standing'),\n",
       " Text(121.30434782608695, 356.7375, 'entropy = 0.0\\nsamples = 1680\\nvalue = [0, 1680, 0]\\nclass = standing'),\n",
       " Text(242.6086956521739, 356.7375, 'beta_moving_avg_4 <= 29.92\\nentropy = 0.12\\nsamples = 856\\nvalue = [0, 842, 14]\\nclass = standing'),\n",
       " Text(181.95652173913044, 254.8125, 'entropy = 0.31\\nsamples = 180\\nvalue = [0, 170, 10]\\nclass = standing'),\n",
       " Text(303.2608695652174, 254.8125, 'd3_mean <= 1.394\\nentropy = 0.052\\nsamples = 676\\nvalue = [0, 672, 4]\\nclass = standing'),\n",
       " Text(242.6086956521739, 152.88750000000005, 'entropy = 0.0\\nsamples = 496\\nvalue = [0, 496, 0]\\nclass = standing'),\n",
       " Text(363.9130434782609, 152.88750000000005, 'entropy = 0.154\\nsamples = 180\\nvalue = [0, 176, 4]\\nclass = standing'),\n",
       " Text(424.5652173913043, 458.66249999999997, 'beta_moving_avg_4 <= 38.676\\nentropy = 0.579\\nsamples = 586\\nvalue = [1, 508, 77]\\nclass = standing'),\n",
       " Text(363.9130434782609, 356.7375, 'entropy = 0.286\\nsamples = 284\\nvalue = [1, 271, 12]\\nclass = standing'),\n",
       " Text(485.2173913043478, 356.7375, 'entropy = 0.751\\nsamples = 302\\nvalue = [0, 237, 65]\\nclass = standing'),\n",
       " Text(970.4347826086956, 560.5875, 'beta_moving_avg_4 <= 58.701\\nentropy = 0.802\\nsamples = 5368\\nvalue = [22, 1196, 4150]\\nclass = walking'),\n",
       " Text(909.7826086956521, 458.66249999999997, 'd3_mean <= 3.603\\nentropy = 0.701\\nsamples = 5029\\nvalue = [22, 863, 4144]\\nclass = walking'),\n",
       " Text(667.1739130434783, 356.7375, 'beta_moving_avg_4 <= 38.498\\nentropy = 1.007\\nsamples = 812\\nvalue = [1, 369, 442]\\nclass = walking'),\n",
       " Text(545.8695652173913, 254.8125, 'alpha_moving_std_4 <= 0.756\\nentropy = 0.986\\nsamples = 399\\nvalue = [1, 244, 154]\\nclass = standing'),\n",
       " Text(485.2173913043478, 152.88750000000005, 'entropy = 0.754\\nsamples = 180\\nvalue = [0, 141, 39]\\nclass = standing'),\n",
       " Text(606.5217391304348, 152.88750000000005, 'entropy = 1.035\\nsamples = 219\\nvalue = [1, 103, 115]\\nclass = walking'),\n",
       " Text(788.4782608695652, 254.8125, 'alpha_moving_std_4 <= 1.029\\nentropy = 0.885\\nsamples = 413\\nvalue = [0, 125, 288]\\nclass = walking'),\n",
       " Text(727.8260869565217, 152.88750000000005, 'entropy = 0.971\\nsamples = 227\\nvalue = [0, 91, 136]\\nclass = walking'),\n",
       " Text(849.1304347826086, 152.88750000000005, 'entropy = 0.686\\nsamples = 186\\nvalue = [0, 34, 152]\\nclass = walking'),\n",
       " Text(1152.391304347826, 356.7375, 'alpha_moving_std_4 <= 2.111\\nentropy = 0.565\\nsamples = 4217\\nvalue = [21, 494, 3702]\\nclass = walking'),\n",
       " Text(1031.086956521739, 254.8125, 'd3_mean <= 18.448\\nentropy = 0.674\\nsamples = 2055\\nvalue = [0, 364, 1691]\\nclass = walking'),\n",
       " Text(970.4347826086956, 152.88750000000005, 'd3_mean <= 6.026\\nentropy = 0.627\\nsamples = 1874\\nvalue = [0, 294, 1580]\\nclass = walking'),\n",
       " Text(909.7826086956521, 50.96249999999998, 'entropy = 0.75\\nsamples = 1127\\nvalue = [0, 242, 885]\\nclass = walking'),\n",
       " Text(1031.086956521739, 50.96249999999998, 'entropy = 0.364\\nsamples = 747\\nvalue = [0, 52, 695]\\nclass = walking'),\n",
       " Text(1091.7391304347825, 152.88750000000005, 'entropy = 0.963\\nsamples = 181\\nvalue = [0, 70, 111]\\nclass = walking'),\n",
       " Text(1273.695652173913, 254.8125, 'alpha_moving_std_4 <= 10.683\\nentropy = 0.406\\nsamples = 2162\\nvalue = [21, 130, 2011]\\nclass = walking'),\n",
       " Text(1213.0434782608695, 152.88750000000005, 'alpha_moving_std_4 <= 4.228\\nentropy = 0.268\\nsamples = 1982\\nvalue = [1, 88, 1893]\\nclass = walking'),\n",
       " Text(1152.391304347826, 50.96249999999998, 'entropy = 0.329\\nsamples = 1339\\nvalue = [1, 78, 1260]\\nclass = walking'),\n",
       " Text(1273.695652173913, 50.96249999999998, 'entropy = 0.116\\nsamples = 643\\nvalue = [0, 10, 633]\\nclass = walking'),\n",
       " Text(1334.3478260869565, 152.88750000000005, 'entropy = 1.241\\nsamples = 180\\nvalue = [20, 42, 118]\\nclass = walking'),\n",
       " Text(1031.086956521739, 458.66249999999997, 'entropy = 0.128\\nsamples = 339\\nvalue = [0, 333, 6]\\nclass = standing')]"
      ]
     },
     "execution_count": 107,
     "metadata": {},
     "output_type": "execute_result"
    },
    {
     "data": {
      "image/png": "[encoded data removed]",
      "text/plain": [
       "<Figure size 1800x1080 with 1 Axes>"
      ]
     },
     "metadata": {
      "needs_background": "light"
     },
     "output_type": "display_data"
    }
   ],
   "source": [
    "from sklearn import tree\n",
    "classes = ['sitting','standing','walking']\n",
    "final_features_list = list(X.iloc[:,final_features].columns)\n",
    "\n",
    "X_pmml = X.iloc[:,final_features]\n",
    "\n",
    "dtree = tree.DecisionTreeClassifier(criterion='entropy',\n",
    "                                    random_state=seed,\n",
    "                                    max_depth = best_depth,\n",
    "                                   min_samples_leaf= best_leafs,\n",
    "                                   min_samples_split= best_splits)\n",
    "dtree.fit(X_pmml,y)\n",
    "fig = plt.gcf()\n",
    "fig.set_size_inches(25, 15)\n",
    "tree.plot_tree(dtree,class_names=classes, feature_names=final_features_list,fontsize=10)"
   ]
  },
  {
   "cell_type": "markdown",
   "metadata": {},
   "source": [
    "# Generate PMML"
   ]
  },
  {
   "cell_type": "code",
   "execution_count": 62,
   "metadata": {
    "ExecuteTime": {
     "end_time": "2019-11-06T09:03:53.464963Z",
     "start_time": "2019-11-06T09:03:53.457723Z"
    }
   },
   "outputs": [],
   "source": [
    "from sklearn.pipeline import Pipeline\n",
    "from sklearn2pmml import sklearn2pmml, PMMLPipeline"
   ]
  },
  {
   "cell_type": "code",
   "execution_count": 63,
   "metadata": {
    "ExecuteTime": {
     "end_time": "2019-11-06T09:03:55.185268Z",
     "start_time": "2019-11-06T09:03:55.176438Z"
    }
   },
   "outputs": [],
   "source": [
    "pipeline_obj = PMMLPipeline([\n",
    "    ('Dt',DecisionTreeClassifier(criterion='entropy',random_state=seed,min_samples_leaf = optimal_leafs, min_samples_split = optimal_splits,max_depth = optimal_depth))\n",
    "])"
   ]
  },
  {
   "cell_type": "code",
   "execution_count": 64,
   "metadata": {
    "ExecuteTime": {
     "end_time": "2019-11-06T09:03:56.958981Z",
     "start_time": "2019-11-06T09:03:56.887866Z"
    }
   },
   "outputs": [],
   "source": [
    "pipeline_obj = pipeline_obj.fit(X_pmml,y)"
   ]
  },
  {
   "cell_type": "code",
   "execution_count": 65,
   "metadata": {
    "ExecuteTime": {
     "end_time": "2019-11-06T09:04:01.235559Z",
     "start_time": "2019-11-06T09:03:58.688328Z"
    }
   },
   "outputs": [],
   "source": [
    "sklearn2pmml(pipeline=pipeline_obj, \n",
    "             pmml=\"/usr/local/var/www/models/ClassificationTree2.pmml\")"
   ]
  }
 ],
 "metadata": {
  "kernelspec": {
   "display_name": "Python 3",
   "language": "python",
   "name": "python3"
  },
  "language_info": {
   "codemirror_mode": {
    "name": "ipython",
    "version": 3
   },
   "file_extension": ".py",
   "mimetype": "text/x-python",
   "name": "python",
   "nbconvert_exporter": "python",
   "pygments_lexer": "ipython3",
   "version": "3.8.5"
  },
  "toc": {
   "base_numbering": 1,
   "nav_menu": {},
   "number_sections": true,
   "sideBar": true,
   "skip_h1_title": false,
   "title_cell": "Table of Contents",
   "title_sidebar": "Contents",
   "toc_cell": false,
   "toc_position": {},
   "toc_section_display": true,
   "toc_window_display": true
  },
  "varInspector": {
   "cols": {
    "lenName": 16,
    "lenType": 16,
    "lenVar": 40
   },
   "kernels_config": {
    "python": {
     "delete_cmd_postfix": "",
     "delete_cmd_prefix": "del ",
     "library": "var_list.py",
     "varRefreshCmd": "print(var_dic_list())"
    },
    "r": {
     "delete_cmd_postfix": ") ",
     "delete_cmd_prefix": "rm(",
     "library": "var_list.r",
     "varRefreshCmd": "cat(var_dic_list()) "
    }
   },
   "types_to_exclude": [
    "module",
    "function",
    "builtin_function_or_method",
    "instance",
    "_Feature"
   ],
   "window_display": false
  }
 },
 "nbformat": 4,
 "nbformat_minor": 2
}
